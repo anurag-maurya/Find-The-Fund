{
  "nbformat": 4,
  "nbformat_minor": 0,
  "metadata": {
    "colab": {
      "name": "Find the fund",
      "provenance": []
    },
    "kernelspec": {
      "name": "python3",
      "display_name": "Python 3"
    }
  },
  "cells": [
    {
      "cell_type": "markdown",
      "metadata": {
        "id": "JpztLf-AyNRb",
        "colab_type": "text"
      },
      "source": [
        "Importing Libraries\n"
      ]
    },
    {
      "cell_type": "code",
      "metadata": {
        "id": "0SYWpxIZ3JUg",
        "colab_type": "code",
        "colab": {}
      },
      "source": [
        "import pandas as pd\n",
        "import numpy as np\n",
        "import random as rnd\n",
        "\n",
        "\n",
        "import matplotlib.pyplot as plt\n",
        "%matplotlib inline\n",
        "\n",
        "from datetime import datetime\n",
        "import csv\n",
        "from sklearn.linear_model import LogisticRegression\n",
        "from sklearn.svm import SVC, LinearSVC\n",
        "from sklearn.ensemble import RandomForestClassifier\n",
        "from sklearn.neighbors import KNeighborsClassifier\n",
        "from sklearn.naive_bayes import GaussianNB\n",
        "from sklearn.linear_model import Perceptron\n",
        "from sklearn.linear_model import SGDClassifier\n",
        "from sklearn.tree import DecisionTreeClassifier"
      ],
      "execution_count": 0,
      "outputs": []
    },
    {
      "cell_type": "markdown",
      "metadata": {
        "id": "6fKHvelcyePn",
        "colab_type": "text"
      },
      "source": [
        "Mounting Google Drive to import dataset\n"
      ]
    },
    {
      "cell_type": "code",
      "metadata": {
        "id": "BeKSEskK6CPZ",
        "colab_type": "code",
        "colab": {}
      },
      "source": [
        "from google.colab import drive\n",
        "drive.mount('/content/drive')       "
      ],
      "execution_count": 0,
      "outputs": []
    },
    {
      "cell_type": "markdown",
      "metadata": {
        "id": "1hCIiB8ZymEe",
        "colab_type": "text"
      },
      "source": [
        "Importing Dataset By pandas.read_csv "
      ]
    },
    {
      "cell_type": "code",
      "metadata": {
        "id": "G6WieRve3hPK",
        "colab_type": "code",
        "colab": {}
      },
      "source": [
        "train_df=pd.read_csv('drive/My Drive/Colab Notebooks/find_the_fund_train.csv')\n",
        "test_df=pd.read_csv('drive/My Drive/Colab Notebooks/find_the_fund_test.csv')\n",
        "test_df_later=test_df"
      ],
      "execution_count": 0,
      "outputs": []
    },
    {
      "cell_type": "markdown",
      "metadata": {
        "id": "0RIt1RLzy6BQ",
        "colab_type": "text"
      },
      "source": [
        "Printing Culmns name present in train dataset"
      ]
    },
    {
      "cell_type": "code",
      "metadata": {
        "id": "RVHcZQbx9DRO",
        "colab_type": "code",
        "outputId": "3a2077c9-0033-402d-f007-16bde55cedbc",
        "colab": {
          "base_uri": "https://localhost:8080/",
          "height": 145
        }
      },
      "source": [
        "print(train_df.columns.values)"
      ],
      "execution_count": 0,
      "outputs": [
        {
          "output_type": "stream",
          "text": [
            "['ID' 'comp_name' 'website' 'op_status' 'domain' 'founded_on'\n",
            " 'hq_country_code' 'hq_state_code' 'hq_region' 'hq_city'\n",
            " 'total_funding_usd' 'funding_rounds' 'first_funding_date'\n",
            " 'last_funding_date' 'num_investors' 'funding_duration'\n",
            " 'first_funding_utc' 'last_funding_utc' 'successful_investment'\n",
            " 'Unnamed: 19' 'Unnamed: 20' 'Unnamed: 21' 'Unnamed: 22' 'Unnamed: 23'\n",
            " 'Unnamed: 24' 'Unnamed: 25' 'Unnamed: 26']\n"
          ],
          "name": "stdout"
        }
      ]
    },
    {
      "cell_type": "markdown",
      "metadata": {
        "id": "dr7-u6d2zsYA",
        "colab_type": "text"
      },
      "source": [
        "Print first five rows using head command"
      ]
    },
    {
      "cell_type": "code",
      "metadata": {
        "id": "wLj702hx9IUu",
        "colab_type": "code",
        "outputId": "b2c1b112-3e5c-4ca4-d549-ee6e401c7c88",
        "colab": {
          "base_uri": "https://localhost:8080/",
          "height": 322
        }
      },
      "source": [
        "train_df.head()"
      ],
      "execution_count": 0,
      "outputs": [
        {
          "output_type": "execute_result",
          "data": {
            "text/html": [
              "<div>\n",
              "<style scoped>\n",
              "    .dataframe tbody tr th:only-of-type {\n",
              "        vertical-align: middle;\n",
              "    }\n",
              "\n",
              "    .dataframe tbody tr th {\n",
              "        vertical-align: top;\n",
              "    }\n",
              "\n",
              "    .dataframe thead th {\n",
              "        text-align: right;\n",
              "    }\n",
              "</style>\n",
              "<table border=\"1\" class=\"dataframe\">\n",
              "  <thead>\n",
              "    <tr style=\"text-align: right;\">\n",
              "      <th></th>\n",
              "      <th>ID</th>\n",
              "      <th>comp_name</th>\n",
              "      <th>website</th>\n",
              "      <th>op_status</th>\n",
              "      <th>domain</th>\n",
              "      <th>founded_on</th>\n",
              "      <th>hq_country_code</th>\n",
              "      <th>hq_state_code</th>\n",
              "      <th>hq_region</th>\n",
              "      <th>hq_city</th>\n",
              "      <th>total_funding_usd</th>\n",
              "      <th>funding_rounds</th>\n",
              "      <th>first_funding_date</th>\n",
              "      <th>last_funding_date</th>\n",
              "      <th>num_investors</th>\n",
              "      <th>funding_duration</th>\n",
              "      <th>first_funding_utc</th>\n",
              "      <th>last_funding_utc</th>\n",
              "      <th>successful_investment</th>\n",
              "      <th>Unnamed: 19</th>\n",
              "      <th>Unnamed: 20</th>\n",
              "      <th>Unnamed: 21</th>\n",
              "      <th>Unnamed: 22</th>\n",
              "      <th>Unnamed: 23</th>\n",
              "      <th>Unnamed: 24</th>\n",
              "      <th>Unnamed: 25</th>\n",
              "      <th>Unnamed: 26</th>\n",
              "    </tr>\n",
              "  </thead>\n",
              "  <tbody>\n",
              "    <tr>\n",
              "      <th>0</th>\n",
              "      <td>0</td>\n",
              "      <td>Nanotecture</td>\n",
              "      <td>http://www.nanotecture.co.uk</td>\n",
              "      <td>closed</td>\n",
              "      <td>Nanotechnology</td>\n",
              "      <td>NaN</td>\n",
              "      <td>GBR</td>\n",
              "      <td>M4</td>\n",
              "      <td>London</td>\n",
              "      <td>Southampton</td>\n",
              "      <td>6820000</td>\n",
              "      <td>1</td>\n",
              "      <td>2005-05-04</td>\n",
              "      <td>2005-05-04</td>\n",
              "      <td>4</td>\n",
              "      <td>0</td>\n",
              "      <td>12907</td>\n",
              "      <td>12907</td>\n",
              "      <td>0</td>\n",
              "      <td>NaN</td>\n",
              "      <td>NaN</td>\n",
              "      <td>NaN</td>\n",
              "      <td>NaN</td>\n",
              "      <td>NaN</td>\n",
              "      <td>NaN</td>\n",
              "      <td>NaN</td>\n",
              "      <td>NaN</td>\n",
              "    </tr>\n",
              "    <tr>\n",
              "      <th>1</th>\n",
              "      <td>1</td>\n",
              "      <td>Sybari</td>\n",
              "      <td>http://www.sybari.com</td>\n",
              "      <td>acquired</td>\n",
              "      <td>Email|Security|Software</td>\n",
              "      <td>1995-01-01</td>\n",
              "      <td>USA</td>\n",
              "      <td>NY</td>\n",
              "      <td>Long Island</td>\n",
              "      <td>East Northport</td>\n",
              "      <td>NaN</td>\n",
              "      <td>1</td>\n",
              "      <td>2001-03-30</td>\n",
              "      <td>2001-03-30</td>\n",
              "      <td>1</td>\n",
              "      <td>0</td>\n",
              "      <td>11411</td>\n",
              "      <td>11411</td>\n",
              "      <td>1</td>\n",
              "      <td>NaN</td>\n",
              "      <td>NaN</td>\n",
              "      <td>NaN</td>\n",
              "      <td>NaN</td>\n",
              "      <td>NaN</td>\n",
              "      <td>NaN</td>\n",
              "      <td>NaN</td>\n",
              "      <td>NaN</td>\n",
              "    </tr>\n",
              "    <tr>\n",
              "      <th>2</th>\n",
              "      <td>2</td>\n",
              "      <td>Futurederm</td>\n",
              "      <td>http://www.futurederm.com</td>\n",
              "      <td>operating</td>\n",
              "      <td>Beauty|Cosmetics|E-Commerce|Social Media</td>\n",
              "      <td>2009-06-07</td>\n",
              "      <td>USA</td>\n",
              "      <td>PA</td>\n",
              "      <td>Pittsburgh</td>\n",
              "      <td>Pittsburgh</td>\n",
              "      <td>165778</td>\n",
              "      <td>5</td>\n",
              "      <td>2012-10-25</td>\n",
              "      <td>2014-05-27</td>\n",
              "      <td>4</td>\n",
              "      <td>579</td>\n",
              "      <td>15638</td>\n",
              "      <td>16217</td>\n",
              "      <td>0</td>\n",
              "      <td>NaN</td>\n",
              "      <td>NaN</td>\n",
              "      <td>NaN</td>\n",
              "      <td>NaN</td>\n",
              "      <td>NaN</td>\n",
              "      <td>NaN</td>\n",
              "      <td>NaN</td>\n",
              "      <td>NaN</td>\n",
              "    </tr>\n",
              "    <tr>\n",
              "      <th>3</th>\n",
              "      <td>3</td>\n",
              "      <td>Mercora</td>\n",
              "      <td>http://mercora.com</td>\n",
              "      <td>closed</td>\n",
              "      <td>Curated Web</td>\n",
              "      <td>NaN</td>\n",
              "      <td>USA</td>\n",
              "      <td>CA</td>\n",
              "      <td>SF Bay Area</td>\n",
              "      <td>Sunnyvale</td>\n",
              "      <td>5000000</td>\n",
              "      <td>1</td>\n",
              "      <td>2005-01-01</td>\n",
              "      <td>2005-01-01</td>\n",
              "      <td>1</td>\n",
              "      <td>0</td>\n",
              "      <td>12784</td>\n",
              "      <td>12784</td>\n",
              "      <td>0</td>\n",
              "      <td>NaN</td>\n",
              "      <td>NaN</td>\n",
              "      <td>NaN</td>\n",
              "      <td>NaN</td>\n",
              "      <td>NaN</td>\n",
              "      <td>NaN</td>\n",
              "      <td>NaN</td>\n",
              "      <td>NaN</td>\n",
              "    </tr>\n",
              "    <tr>\n",
              "      <th>4</th>\n",
              "      <td>4</td>\n",
              "      <td>Datos IO</td>\n",
              "      <td>http://www.datos.io</td>\n",
              "      <td>operating</td>\n",
              "      <td>Big Data|Cloud Computing|Databases|Enterprise ...</td>\n",
              "      <td>2014-06-01</td>\n",
              "      <td>USA</td>\n",
              "      <td>CA</td>\n",
              "      <td>SF Bay Area</td>\n",
              "      <td>San Jose</td>\n",
              "      <td>15250000</td>\n",
              "      <td>2</td>\n",
              "      <td>2014-07-01</td>\n",
              "      <td>2015-09-15</td>\n",
              "      <td>4</td>\n",
              "      <td>441</td>\n",
              "      <td>16252</td>\n",
              "      <td>16693</td>\n",
              "      <td>0</td>\n",
              "      <td>NaN</td>\n",
              "      <td>NaN</td>\n",
              "      <td>NaN</td>\n",
              "      <td>NaN</td>\n",
              "      <td>NaN</td>\n",
              "      <td>NaN</td>\n",
              "      <td>NaN</td>\n",
              "      <td>NaN</td>\n",
              "    </tr>\n",
              "  </tbody>\n",
              "</table>\n",
              "</div>"
            ],
            "text/plain": [
              "   ID    comp_name  ... Unnamed: 25 Unnamed: 26\n",
              "0   0  Nanotecture  ...         NaN         NaN\n",
              "1   1       Sybari  ...         NaN         NaN\n",
              "2   2   Futurederm  ...         NaN         NaN\n",
              "3   3      Mercora  ...         NaN         NaN\n",
              "4   4     Datos IO  ...         NaN         NaN\n",
              "\n",
              "[5 rows x 27 columns]"
            ]
          },
          "metadata": {
            "tags": []
          },
          "execution_count": 216
        }
      ]
    },
    {
      "cell_type": "code",
      "metadata": {
        "id": "IMXnK0QA9T8D",
        "colab_type": "code",
        "outputId": "9d462ec0-903f-4416-a327-b6ca1752bbe5",
        "colab": {
          "base_uri": "https://localhost:8080/",
          "height": 599
        }
      },
      "source": [
        "train_df.info()"
      ],
      "execution_count": 0,
      "outputs": [
        {
          "output_type": "stream",
          "text": [
            "<class 'pandas.core.frame.DataFrame'>\n",
            "RangeIndex: 40213 entries, 0 to 40212\n",
            "Data columns (total 27 columns):\n",
            "ID                       40213 non-null int64\n",
            "comp_name                40213 non-null object\n",
            "website                  37746 non-null object\n",
            "op_status                40213 non-null object\n",
            "domain                   38007 non-null object\n",
            "founded_on               29999 non-null object\n",
            "hq_country_code          35699 non-null object\n",
            "hq_state_code            34623 non-null object\n",
            "hq_region                34965 non-null object\n",
            "hq_city                  34967 non-null object\n",
            "total_funding_usd        32549 non-null object\n",
            "funding_rounds           40212 non-null object\n",
            "first_funding_date       40213 non-null object\n",
            "last_funding_date        40213 non-null object\n",
            "num_investors            40213 non-null object\n",
            "funding_duration         40213 non-null int64\n",
            "first_funding_utc        40213 non-null object\n",
            "last_funding_utc         40213 non-null object\n",
            "successful_investment    40213 non-null int64\n",
            "Unnamed: 19              3 non-null float64\n",
            "Unnamed: 20              1 non-null object\n",
            "Unnamed: 21              1 non-null object\n",
            "Unnamed: 22              1 non-null float64\n",
            "Unnamed: 23              1 non-null float64\n",
            "Unnamed: 24              1 non-null float64\n",
            "Unnamed: 25              1 non-null float64\n",
            "Unnamed: 26              1 non-null float64\n",
            "dtypes: float64(6), int64(3), object(18)\n",
            "memory usage: 8.3+ MB\n"
          ],
          "name": "stdout"
        }
      ]
    },
    {
      "cell_type": "code",
      "metadata": {
        "id": "ynxP-SB4D9Lp",
        "colab_type": "code",
        "outputId": "35ce9c5d-0753-4a11-97bb-86e720fdf92e",
        "colab": {
          "base_uri": "https://localhost:8080/",
          "height": 454
        }
      },
      "source": [
        "test_df.info()"
      ],
      "execution_count": 0,
      "outputs": [
        {
          "output_type": "stream",
          "text": [
            "<class 'pandas.core.frame.DataFrame'>\n",
            "RangeIndex: 4469 entries, 0 to 4468\n",
            "Data columns (total 19 columns):\n",
            "ID                    4469 non-null int64\n",
            "comp_name             4468 non-null object\n",
            "website               4185 non-null object\n",
            "op_status             4469 non-null object\n",
            "domain                4256 non-null object\n",
            "founded_on            3279 non-null object\n",
            "hq_country_code       4001 non-null object\n",
            "hq_state_code         3893 non-null object\n",
            "hq_region             3914 non-null object\n",
            "hq_city               3914 non-null object\n",
            "total_funding_usd     3619 non-null object\n",
            "funding_rounds        4469 non-null int64\n",
            "first_funding_date    4469 non-null object\n",
            "last_funding_date     4469 non-null object\n",
            "num_investors         4469 non-null object\n",
            "funding_duration      4469 non-null int64\n",
            "first_funding_utc     4469 non-null int64\n",
            "last_funding_utc      4469 non-null int64\n",
            "Unnamed: 18           1 non-null float64\n",
            "dtypes: float64(1), int64(5), object(13)\n",
            "memory usage: 663.4+ KB\n"
          ],
          "name": "stdout"
        }
      ]
    },
    {
      "cell_type": "code",
      "metadata": {
        "id": "JbPFEEOZEeXw",
        "colab_type": "code",
        "outputId": "ae9201e6-7b1a-4857-e3e4-841cddb5eeec",
        "colab": {
          "base_uri": "https://localhost:8080/",
          "height": 288
        }
      },
      "source": [
        "train_df.describe()"
      ],
      "execution_count": 0,
      "outputs": [
        {
          "output_type": "execute_result",
          "data": {
            "text/html": [
              "<div>\n",
              "<style scoped>\n",
              "    .dataframe tbody tr th:only-of-type {\n",
              "        vertical-align: middle;\n",
              "    }\n",
              "\n",
              "    .dataframe tbody tr th {\n",
              "        vertical-align: top;\n",
              "    }\n",
              "\n",
              "    .dataframe thead th {\n",
              "        text-align: right;\n",
              "    }\n",
              "</style>\n",
              "<table border=\"1\" class=\"dataframe\">\n",
              "  <thead>\n",
              "    <tr style=\"text-align: right;\">\n",
              "      <th></th>\n",
              "      <th>ID</th>\n",
              "      <th>funding_duration</th>\n",
              "      <th>successful_investment</th>\n",
              "      <th>Unnamed: 19</th>\n",
              "      <th>Unnamed: 22</th>\n",
              "      <th>Unnamed: 23</th>\n",
              "      <th>Unnamed: 24</th>\n",
              "      <th>Unnamed: 25</th>\n",
              "      <th>Unnamed: 26</th>\n",
              "    </tr>\n",
              "  </thead>\n",
              "  <tbody>\n",
              "    <tr>\n",
              "      <th>count</th>\n",
              "      <td>40213.000000</td>\n",
              "      <td>40213.000000</td>\n",
              "      <td>4.021300e+04</td>\n",
              "      <td>3.000000</td>\n",
              "      <td>1.0</td>\n",
              "      <td>1.0</td>\n",
              "      <td>1.0</td>\n",
              "      <td>1.0</td>\n",
              "      <td>1.0</td>\n",
              "    </tr>\n",
              "    <tr>\n",
              "      <th>mean</th>\n",
              "      <td>20106.000000</td>\n",
              "      <td>436.388133</td>\n",
              "      <td>9.224409e+02</td>\n",
              "      <td>1.000000</td>\n",
              "      <td>13.0</td>\n",
              "      <td>838.0</td>\n",
              "      <td>15553.0</td>\n",
              "      <td>16391.0</td>\n",
              "      <td>0.0</td>\n",
              "    </tr>\n",
              "    <tr>\n",
              "      <th>std</th>\n",
              "      <td>11608.637524</td>\n",
              "      <td>779.468602</td>\n",
              "      <td>1.848059e+05</td>\n",
              "      <td>1.732051</td>\n",
              "      <td>NaN</td>\n",
              "      <td>NaN</td>\n",
              "      <td>NaN</td>\n",
              "      <td>NaN</td>\n",
              "      <td>NaN</td>\n",
              "    </tr>\n",
              "    <tr>\n",
              "      <th>min</th>\n",
              "      <td>0.000000</td>\n",
              "      <td>0.000000</td>\n",
              "      <td>0.000000e+00</td>\n",
              "      <td>0.000000</td>\n",
              "      <td>13.0</td>\n",
              "      <td>838.0</td>\n",
              "      <td>15553.0</td>\n",
              "      <td>16391.0</td>\n",
              "      <td>0.0</td>\n",
              "    </tr>\n",
              "    <tr>\n",
              "      <th>25%</th>\n",
              "      <td>10053.000000</td>\n",
              "      <td>0.000000</td>\n",
              "      <td>0.000000e+00</td>\n",
              "      <td>0.000000</td>\n",
              "      <td>13.0</td>\n",
              "      <td>838.0</td>\n",
              "      <td>15553.0</td>\n",
              "      <td>16391.0</td>\n",
              "      <td>0.0</td>\n",
              "    </tr>\n",
              "    <tr>\n",
              "      <th>50%</th>\n",
              "      <td>20106.000000</td>\n",
              "      <td>0.000000</td>\n",
              "      <td>0.000000e+00</td>\n",
              "      <td>0.000000</td>\n",
              "      <td>13.0</td>\n",
              "      <td>838.0</td>\n",
              "      <td>15553.0</td>\n",
              "      <td>16391.0</td>\n",
              "      <td>0.0</td>\n",
              "    </tr>\n",
              "    <tr>\n",
              "      <th>75%</th>\n",
              "      <td>30159.000000</td>\n",
              "      <td>615.000000</td>\n",
              "      <td>0.000000e+00</td>\n",
              "      <td>1.500000</td>\n",
              "      <td>13.0</td>\n",
              "      <td>838.0</td>\n",
              "      <td>15553.0</td>\n",
              "      <td>16391.0</td>\n",
              "      <td>0.0</td>\n",
              "    </tr>\n",
              "    <tr>\n",
              "      <th>max</th>\n",
              "      <td>40212.000000</td>\n",
              "      <td>36994.000000</td>\n",
              "      <td>3.705945e+07</td>\n",
              "      <td>3.000000</td>\n",
              "      <td>13.0</td>\n",
              "      <td>838.0</td>\n",
              "      <td>15553.0</td>\n",
              "      <td>16391.0</td>\n",
              "      <td>0.0</td>\n",
              "    </tr>\n",
              "  </tbody>\n",
              "</table>\n",
              "</div>"
            ],
            "text/plain": [
              "                 ID  funding_duration  ...  Unnamed: 25  Unnamed: 26\n",
              "count  40213.000000      40213.000000  ...          1.0          1.0\n",
              "mean   20106.000000        436.388133  ...      16391.0          0.0\n",
              "std    11608.637524        779.468602  ...          NaN          NaN\n",
              "min        0.000000          0.000000  ...      16391.0          0.0\n",
              "25%    10053.000000          0.000000  ...      16391.0          0.0\n",
              "50%    20106.000000          0.000000  ...      16391.0          0.0\n",
              "75%    30159.000000        615.000000  ...      16391.0          0.0\n",
              "max    40212.000000      36994.000000  ...      16391.0          0.0\n",
              "\n",
              "[8 rows x 9 columns]"
            ]
          },
          "metadata": {
            "tags": []
          },
          "execution_count": 219
        }
      ]
    },
    {
      "cell_type": "markdown",
      "metadata": {
        "id": "YQekMb7Kz475",
        "colab_type": "text"
      },
      "source": [
        "Removing some noises present in dataset"
      ]
    },
    {
      "cell_type": "code",
      "metadata": {
        "id": "E5isdLog9M1I",
        "colab_type": "code",
        "colab": {}
      },
      "source": [
        "train_df['founded_on']=train_df['founded_on'].replace(\" http://www.dreamlines.com.au \",'2009-01-01')\n",
        "train_df['founded_on']=train_df['founded_on'].replace(\"Customer Service|Information Technology|Internet|Real Time|Search|Shared Services|Social Media|Web Tools\",'2009-01-01')\n",
        "train_df['founded_on']=train_df['founded_on'].replace(\"Cloud Computing|Customer Service|Distribution|Shipping|Tech Field Support\",'2009-01-01')\n",
        "test_df['founded_on']=test_df['founded_on'].replace(\"Apps|Digital Media|Kids|Software\",'2009-01-01')\n"
      ],
      "execution_count": 0,
      "outputs": []
    },
    {
      "cell_type": "markdown",
      "metadata": {
        "id": "oce4OmZc0DAj",
        "colab_type": "text"
      },
      "source": [
        "founded_on column contains datas and sone element of it contains NA which can be removed by fillna() command \n",
        "And replac date formet 2005-05-6 to 2005,05,6 so that pandas.to_numeric function can change it to numeric values "
      ]
    },
    {
      "cell_type": "code",
      "metadata": {
        "id": "KVHYgn038Hd3",
        "colab_type": "code",
        "colab": {}
      },
      "source": [
        "train_df['founded_on']=train_df['founded_on'].fillna('2009-01-01')\n",
        "test_df['founded_on']=test_df['founded_on'].fillna('2009-01-01')\n",
        "train_df['founded_on'] = pd.to_numeric(train_df.founded_on.str.replace('-',''))\n",
        "test_df['founded_on'] = pd.to_numeric(test_df.founded_on.str.replace('-',''))"
      ],
      "execution_count": 0,
      "outputs": []
    },
    {
      "cell_type": "code",
      "metadata": {
        "id": "3DpRYEeHBBCB",
        "colab_type": "code",
        "colab": {}
      },
      "source": [
        "train_df['first_funding_date']=train_df['first_funding_date'].replace(\"Online Travel|Shipping|Transportation|Travel|Travel & Tourism\",'2005-05-04')"
      ],
      "execution_count": 0,
      "outputs": []
    },
    {
      "cell_type": "code",
      "metadata": {
        "id": "xQ2xE8p7rTgE",
        "colab_type": "code",
        "colab": {}
      },
      "source": [
        "\n",
        "train_df['last_funding_date']=train_df['last_funding_date'].fillna('2005-05-04')\n",
        "train_df['first_funding_date']=train_df['first_funding_date'].fillna('2005-05-04')\n",
        "test_df['last_funding_date']=test_df['last_funding_date'].fillna('2005-05-04')\n",
        "test_df['first_funding_date']=test_df['first_funding_date'].fillna('2005-05-04')\n",
        "train_df['last_funding_date'] = pd.to_numeric(train_df.last_funding_date.str.replace('-',''))\n",
        "train_df['first_funding_date'] = pd.to_numeric(train_df.first_funding_date.str.replace('-',''))\n",
        "test_df['last_funding_date'] = pd.to_numeric(test_df.last_funding_date.str.replace('-',''))\n",
        "test_df['first_funding_date'] = pd.to_numeric(test_df.first_funding_date.str.replace('-',''))"
      ],
      "execution_count": 0,
      "outputs": []
    },
    {
      "cell_type": "code",
      "metadata": {
        "id": "Y7_fg-PyqY-a",
        "colab_type": "code",
        "outputId": "3731d621-7b2a-4ee2-ad2c-7fda85f642c0",
        "colab": {
          "base_uri": "https://localhost:8080/",
          "height": 322
        }
      },
      "source": [
        "train_df.head()"
      ],
      "execution_count": 0,
      "outputs": [
        {
          "output_type": "execute_result",
          "data": {
            "text/html": [
              "<div>\n",
              "<style scoped>\n",
              "    .dataframe tbody tr th:only-of-type {\n",
              "        vertical-align: middle;\n",
              "    }\n",
              "\n",
              "    .dataframe tbody tr th {\n",
              "        vertical-align: top;\n",
              "    }\n",
              "\n",
              "    .dataframe thead th {\n",
              "        text-align: right;\n",
              "    }\n",
              "</style>\n",
              "<table border=\"1\" class=\"dataframe\">\n",
              "  <thead>\n",
              "    <tr style=\"text-align: right;\">\n",
              "      <th></th>\n",
              "      <th>ID</th>\n",
              "      <th>comp_name</th>\n",
              "      <th>website</th>\n",
              "      <th>op_status</th>\n",
              "      <th>domain</th>\n",
              "      <th>founded_on</th>\n",
              "      <th>hq_country_code</th>\n",
              "      <th>hq_state_code</th>\n",
              "      <th>hq_region</th>\n",
              "      <th>hq_city</th>\n",
              "      <th>total_funding_usd</th>\n",
              "      <th>funding_rounds</th>\n",
              "      <th>first_funding_date</th>\n",
              "      <th>last_funding_date</th>\n",
              "      <th>num_investors</th>\n",
              "      <th>funding_duration</th>\n",
              "      <th>first_funding_utc</th>\n",
              "      <th>last_funding_utc</th>\n",
              "      <th>successful_investment</th>\n",
              "      <th>Unnamed: 19</th>\n",
              "      <th>Unnamed: 20</th>\n",
              "      <th>Unnamed: 21</th>\n",
              "      <th>Unnamed: 22</th>\n",
              "      <th>Unnamed: 23</th>\n",
              "      <th>Unnamed: 24</th>\n",
              "      <th>Unnamed: 25</th>\n",
              "      <th>Unnamed: 26</th>\n",
              "    </tr>\n",
              "  </thead>\n",
              "  <tbody>\n",
              "    <tr>\n",
              "      <th>0</th>\n",
              "      <td>0</td>\n",
              "      <td>Nanotecture</td>\n",
              "      <td>http://www.nanotecture.co.uk</td>\n",
              "      <td>closed</td>\n",
              "      <td>Nanotechnology</td>\n",
              "      <td>20090101</td>\n",
              "      <td>GBR</td>\n",
              "      <td>M4</td>\n",
              "      <td>London</td>\n",
              "      <td>Southampton</td>\n",
              "      <td>6820000</td>\n",
              "      <td>1</td>\n",
              "      <td>20050504</td>\n",
              "      <td>20050504</td>\n",
              "      <td>4</td>\n",
              "      <td>0</td>\n",
              "      <td>12907</td>\n",
              "      <td>12907</td>\n",
              "      <td>0</td>\n",
              "      <td>NaN</td>\n",
              "      <td>NaN</td>\n",
              "      <td>NaN</td>\n",
              "      <td>NaN</td>\n",
              "      <td>NaN</td>\n",
              "      <td>NaN</td>\n",
              "      <td>NaN</td>\n",
              "      <td>NaN</td>\n",
              "    </tr>\n",
              "    <tr>\n",
              "      <th>1</th>\n",
              "      <td>1</td>\n",
              "      <td>Sybari</td>\n",
              "      <td>http://www.sybari.com</td>\n",
              "      <td>acquired</td>\n",
              "      <td>Email|Security|Software</td>\n",
              "      <td>19950101</td>\n",
              "      <td>USA</td>\n",
              "      <td>NY</td>\n",
              "      <td>Long Island</td>\n",
              "      <td>East Northport</td>\n",
              "      <td>NaN</td>\n",
              "      <td>1</td>\n",
              "      <td>20010330</td>\n",
              "      <td>20010330</td>\n",
              "      <td>1</td>\n",
              "      <td>0</td>\n",
              "      <td>11411</td>\n",
              "      <td>11411</td>\n",
              "      <td>1</td>\n",
              "      <td>NaN</td>\n",
              "      <td>NaN</td>\n",
              "      <td>NaN</td>\n",
              "      <td>NaN</td>\n",
              "      <td>NaN</td>\n",
              "      <td>NaN</td>\n",
              "      <td>NaN</td>\n",
              "      <td>NaN</td>\n",
              "    </tr>\n",
              "    <tr>\n",
              "      <th>2</th>\n",
              "      <td>2</td>\n",
              "      <td>Futurederm</td>\n",
              "      <td>http://www.futurederm.com</td>\n",
              "      <td>operating</td>\n",
              "      <td>Beauty|Cosmetics|E-Commerce|Social Media</td>\n",
              "      <td>20090607</td>\n",
              "      <td>USA</td>\n",
              "      <td>PA</td>\n",
              "      <td>Pittsburgh</td>\n",
              "      <td>Pittsburgh</td>\n",
              "      <td>165778</td>\n",
              "      <td>5</td>\n",
              "      <td>20121025</td>\n",
              "      <td>20140527</td>\n",
              "      <td>4</td>\n",
              "      <td>579</td>\n",
              "      <td>15638</td>\n",
              "      <td>16217</td>\n",
              "      <td>0</td>\n",
              "      <td>NaN</td>\n",
              "      <td>NaN</td>\n",
              "      <td>NaN</td>\n",
              "      <td>NaN</td>\n",
              "      <td>NaN</td>\n",
              "      <td>NaN</td>\n",
              "      <td>NaN</td>\n",
              "      <td>NaN</td>\n",
              "    </tr>\n",
              "    <tr>\n",
              "      <th>3</th>\n",
              "      <td>3</td>\n",
              "      <td>Mercora</td>\n",
              "      <td>http://mercora.com</td>\n",
              "      <td>closed</td>\n",
              "      <td>Curated Web</td>\n",
              "      <td>20090101</td>\n",
              "      <td>USA</td>\n",
              "      <td>CA</td>\n",
              "      <td>SF Bay Area</td>\n",
              "      <td>Sunnyvale</td>\n",
              "      <td>5000000</td>\n",
              "      <td>1</td>\n",
              "      <td>20050101</td>\n",
              "      <td>20050101</td>\n",
              "      <td>1</td>\n",
              "      <td>0</td>\n",
              "      <td>12784</td>\n",
              "      <td>12784</td>\n",
              "      <td>0</td>\n",
              "      <td>NaN</td>\n",
              "      <td>NaN</td>\n",
              "      <td>NaN</td>\n",
              "      <td>NaN</td>\n",
              "      <td>NaN</td>\n",
              "      <td>NaN</td>\n",
              "      <td>NaN</td>\n",
              "      <td>NaN</td>\n",
              "    </tr>\n",
              "    <tr>\n",
              "      <th>4</th>\n",
              "      <td>4</td>\n",
              "      <td>Datos IO</td>\n",
              "      <td>http://www.datos.io</td>\n",
              "      <td>operating</td>\n",
              "      <td>Big Data|Cloud Computing|Databases|Enterprise ...</td>\n",
              "      <td>20140601</td>\n",
              "      <td>USA</td>\n",
              "      <td>CA</td>\n",
              "      <td>SF Bay Area</td>\n",
              "      <td>San Jose</td>\n",
              "      <td>15250000</td>\n",
              "      <td>2</td>\n",
              "      <td>20140701</td>\n",
              "      <td>20150915</td>\n",
              "      <td>4</td>\n",
              "      <td>441</td>\n",
              "      <td>16252</td>\n",
              "      <td>16693</td>\n",
              "      <td>0</td>\n",
              "      <td>NaN</td>\n",
              "      <td>NaN</td>\n",
              "      <td>NaN</td>\n",
              "      <td>NaN</td>\n",
              "      <td>NaN</td>\n",
              "      <td>NaN</td>\n",
              "      <td>NaN</td>\n",
              "      <td>NaN</td>\n",
              "    </tr>\n",
              "  </tbody>\n",
              "</table>\n",
              "</div>"
            ],
            "text/plain": [
              "   ID    comp_name  ... Unnamed: 25 Unnamed: 26\n",
              "0   0  Nanotecture  ...         NaN         NaN\n",
              "1   1       Sybari  ...         NaN         NaN\n",
              "2   2   Futurederm  ...         NaN         NaN\n",
              "3   3      Mercora  ...         NaN         NaN\n",
              "4   4     Datos IO  ...         NaN         NaN\n",
              "\n",
              "[5 rows x 27 columns]"
            ]
          },
          "metadata": {
            "tags": []
          },
          "execution_count": 224
        }
      ]
    },
    {
      "cell_type": "markdown",
      "metadata": {
        "id": "QxLEpZ_M077n",
        "colab_type": "text"
      },
      "source": [
        "Normlising columns By devide from their Max values"
      ]
    },
    {
      "cell_type": "code",
      "metadata": {
        "id": "SsTG_gPLqOmx",
        "colab_type": "code",
        "colab": {}
      },
      "source": [
        "train_df['first_funding_date']=train_df['first_funding_date']/20010330"
      ],
      "execution_count": 0,
      "outputs": []
    },
    {
      "cell_type": "code",
      "metadata": {
        "id": "zTOVquUPqkPT",
        "colab_type": "code",
        "colab": {}
      },
      "source": [
        "train_df['last_funding_date']=train_df['last_funding_date']/20010330\n",
        "test_df['last_funding_date']=test_df['last_funding_date']/20010330\n",
        "test_df['first_funding_date']=test_df['first_funding_date']/20010330\n",
        "train_df['founded_on']=train_df['founded_on']/20010330\n",
        "test_df['founded_on']=test_df['founded_on']/20010330"
      ],
      "execution_count": 0,
      "outputs": []
    },
    {
      "cell_type": "code",
      "metadata": {
        "id": "WkuKS2G_rB-_",
        "colab_type": "code",
        "outputId": "1b558943-13df-492d-a61a-eab759b33e7a",
        "colab": {
          "base_uri": "https://localhost:8080/",
          "height": 322
        }
      },
      "source": [
        "train_df.head()"
      ],
      "execution_count": 0,
      "outputs": [
        {
          "output_type": "execute_result",
          "data": {
            "text/html": [
              "<div>\n",
              "<style scoped>\n",
              "    .dataframe tbody tr th:only-of-type {\n",
              "        vertical-align: middle;\n",
              "    }\n",
              "\n",
              "    .dataframe tbody tr th {\n",
              "        vertical-align: top;\n",
              "    }\n",
              "\n",
              "    .dataframe thead th {\n",
              "        text-align: right;\n",
              "    }\n",
              "</style>\n",
              "<table border=\"1\" class=\"dataframe\">\n",
              "  <thead>\n",
              "    <tr style=\"text-align: right;\">\n",
              "      <th></th>\n",
              "      <th>ID</th>\n",
              "      <th>comp_name</th>\n",
              "      <th>website</th>\n",
              "      <th>op_status</th>\n",
              "      <th>domain</th>\n",
              "      <th>founded_on</th>\n",
              "      <th>hq_country_code</th>\n",
              "      <th>hq_state_code</th>\n",
              "      <th>hq_region</th>\n",
              "      <th>hq_city</th>\n",
              "      <th>total_funding_usd</th>\n",
              "      <th>funding_rounds</th>\n",
              "      <th>first_funding_date</th>\n",
              "      <th>last_funding_date</th>\n",
              "      <th>num_investors</th>\n",
              "      <th>funding_duration</th>\n",
              "      <th>first_funding_utc</th>\n",
              "      <th>last_funding_utc</th>\n",
              "      <th>successful_investment</th>\n",
              "      <th>Unnamed: 19</th>\n",
              "      <th>Unnamed: 20</th>\n",
              "      <th>Unnamed: 21</th>\n",
              "      <th>Unnamed: 22</th>\n",
              "      <th>Unnamed: 23</th>\n",
              "      <th>Unnamed: 24</th>\n",
              "      <th>Unnamed: 25</th>\n",
              "      <th>Unnamed: 26</th>\n",
              "    </tr>\n",
              "  </thead>\n",
              "  <tbody>\n",
              "    <tr>\n",
              "      <th>0</th>\n",
              "      <td>0</td>\n",
              "      <td>Nanotecture</td>\n",
              "      <td>http://www.nanotecture.co.uk</td>\n",
              "      <td>closed</td>\n",
              "      <td>Nanotechnology</td>\n",
              "      <td>1.003986</td>\n",
              "      <td>GBR</td>\n",
              "      <td>M4</td>\n",
              "      <td>London</td>\n",
              "      <td>Southampton</td>\n",
              "      <td>6820000</td>\n",
              "      <td>1</td>\n",
              "      <td>1.002008</td>\n",
              "      <td>1.002008</td>\n",
              "      <td>4</td>\n",
              "      <td>0</td>\n",
              "      <td>12907</td>\n",
              "      <td>12907</td>\n",
              "      <td>0</td>\n",
              "      <td>NaN</td>\n",
              "      <td>NaN</td>\n",
              "      <td>NaN</td>\n",
              "      <td>NaN</td>\n",
              "      <td>NaN</td>\n",
              "      <td>NaN</td>\n",
              "      <td>NaN</td>\n",
              "      <td>NaN</td>\n",
              "    </tr>\n",
              "    <tr>\n",
              "      <th>1</th>\n",
              "      <td>1</td>\n",
              "      <td>Sybari</td>\n",
              "      <td>http://www.sybari.com</td>\n",
              "      <td>acquired</td>\n",
              "      <td>Email|Security|Software</td>\n",
              "      <td>0.996990</td>\n",
              "      <td>USA</td>\n",
              "      <td>NY</td>\n",
              "      <td>Long Island</td>\n",
              "      <td>East Northport</td>\n",
              "      <td>NaN</td>\n",
              "      <td>1</td>\n",
              "      <td>1.000000</td>\n",
              "      <td>1.000000</td>\n",
              "      <td>1</td>\n",
              "      <td>0</td>\n",
              "      <td>11411</td>\n",
              "      <td>11411</td>\n",
              "      <td>1</td>\n",
              "      <td>NaN</td>\n",
              "      <td>NaN</td>\n",
              "      <td>NaN</td>\n",
              "      <td>NaN</td>\n",
              "      <td>NaN</td>\n",
              "      <td>NaN</td>\n",
              "      <td>NaN</td>\n",
              "      <td>NaN</td>\n",
              "    </tr>\n",
              "    <tr>\n",
              "      <th>2</th>\n",
              "      <td>2</td>\n",
              "      <td>Futurederm</td>\n",
              "      <td>http://www.futurederm.com</td>\n",
              "      <td>operating</td>\n",
              "      <td>Beauty|Cosmetics|E-Commerce|Social Media</td>\n",
              "      <td>1.004012</td>\n",
              "      <td>USA</td>\n",
              "      <td>PA</td>\n",
              "      <td>Pittsburgh</td>\n",
              "      <td>Pittsburgh</td>\n",
              "      <td>165778</td>\n",
              "      <td>5</td>\n",
              "      <td>1.005532</td>\n",
              "      <td>1.006506</td>\n",
              "      <td>4</td>\n",
              "      <td>579</td>\n",
              "      <td>15638</td>\n",
              "      <td>16217</td>\n",
              "      <td>0</td>\n",
              "      <td>NaN</td>\n",
              "      <td>NaN</td>\n",
              "      <td>NaN</td>\n",
              "      <td>NaN</td>\n",
              "      <td>NaN</td>\n",
              "      <td>NaN</td>\n",
              "      <td>NaN</td>\n",
              "      <td>NaN</td>\n",
              "    </tr>\n",
              "    <tr>\n",
              "      <th>3</th>\n",
              "      <td>3</td>\n",
              "      <td>Mercora</td>\n",
              "      <td>http://mercora.com</td>\n",
              "      <td>closed</td>\n",
              "      <td>Curated Web</td>\n",
              "      <td>1.003986</td>\n",
              "      <td>USA</td>\n",
              "      <td>CA</td>\n",
              "      <td>SF Bay Area</td>\n",
              "      <td>Sunnyvale</td>\n",
              "      <td>5000000</td>\n",
              "      <td>1</td>\n",
              "      <td>1.001988</td>\n",
              "      <td>1.001988</td>\n",
              "      <td>1</td>\n",
              "      <td>0</td>\n",
              "      <td>12784</td>\n",
              "      <td>12784</td>\n",
              "      <td>0</td>\n",
              "      <td>NaN</td>\n",
              "      <td>NaN</td>\n",
              "      <td>NaN</td>\n",
              "      <td>NaN</td>\n",
              "      <td>NaN</td>\n",
              "      <td>NaN</td>\n",
              "      <td>NaN</td>\n",
              "      <td>NaN</td>\n",
              "    </tr>\n",
              "    <tr>\n",
              "      <th>4</th>\n",
              "      <td>4</td>\n",
              "      <td>Datos IO</td>\n",
              "      <td>http://www.datos.io</td>\n",
              "      <td>operating</td>\n",
              "      <td>Big Data|Cloud Computing|Databases|Enterprise ...</td>\n",
              "      <td>1.006510</td>\n",
              "      <td>USA</td>\n",
              "      <td>CA</td>\n",
              "      <td>SF Bay Area</td>\n",
              "      <td>San Jose</td>\n",
              "      <td>15250000</td>\n",
              "      <td>2</td>\n",
              "      <td>1.006515</td>\n",
              "      <td>1.007026</td>\n",
              "      <td>4</td>\n",
              "      <td>441</td>\n",
              "      <td>16252</td>\n",
              "      <td>16693</td>\n",
              "      <td>0</td>\n",
              "      <td>NaN</td>\n",
              "      <td>NaN</td>\n",
              "      <td>NaN</td>\n",
              "      <td>NaN</td>\n",
              "      <td>NaN</td>\n",
              "      <td>NaN</td>\n",
              "      <td>NaN</td>\n",
              "      <td>NaN</td>\n",
              "    </tr>\n",
              "  </tbody>\n",
              "</table>\n",
              "</div>"
            ],
            "text/plain": [
              "   ID    comp_name  ... Unnamed: 25 Unnamed: 26\n",
              "0   0  Nanotecture  ...         NaN         NaN\n",
              "1   1       Sybari  ...         NaN         NaN\n",
              "2   2   Futurederm  ...         NaN         NaN\n",
              "3   3      Mercora  ...         NaN         NaN\n",
              "4   4     Datos IO  ...         NaN         NaN\n",
              "\n",
              "[5 rows x 27 columns]"
            ]
          },
          "metadata": {
            "tags": []
          },
          "execution_count": 227
        }
      ]
    },
    {
      "cell_type": "markdown",
      "metadata": {
        "id": "fJVN6n5W1JQK",
        "colab_type": "text"
      },
      "source": [
        "No contribution of Unnamed columns in giving output so remove them.\n",
        "It is obvious that successful_investment does not depend on ID,company name and website. so remove these columns\n",
        "If we are cosedering state code for successful_investment, do not need to consider country name, region or head quater city so we are also removing these columns."
      ]
    },
    {
      "cell_type": "code",
      "metadata": {
        "id": "Lix8wJmIcrkw",
        "colab_type": "code",
        "outputId": "12d56aa2-2a19-4cb3-ecd9-1c647e1d78d5",
        "colab": {
          "base_uri": "https://localhost:8080/",
          "height": 54
        }
      },
      "source": [
        "print(\"Before\", train_df.shape, test_df.shape, combine[0].shape, combine[1].shape)\n",
        "\n",
        "train_df = train_df.drop(['ID','comp_name','website','Unnamed: 19','hq_country_code','hq_region','hq_city','Unnamed: 20','Unnamed: 21','Unnamed: 22','Unnamed: 23','Unnamed: 24','Unnamed: 25','Unnamed: 26'], axis=1)\n",
        "test_df = test_df.drop(['ID','Unnamed: 18', 'website','hq_country_code','hq_region','hq_city','comp_name'], axis=1)\n",
        "combine = [train_df, test_df]\n",
        "\n",
        "print(\"After\", train_df.shape, test_df.shape, combine[0].shape, combine[1].shape)"
      ],
      "execution_count": 0,
      "outputs": [
        {
          "output_type": "stream",
          "text": [
            "Before (40213, 27) (4469, 19) (40213, 27) (4469, 19)\n",
            "After (40213, 13) (4469, 12) (40213, 13) (4469, 12)\n"
          ],
          "name": "stdout"
        }
      ]
    },
    {
      "cell_type": "code",
      "metadata": {
        "id": "V0JTSUvvryXx",
        "colab_type": "code",
        "colab": {}
      },
      "source": [
        "test_df['total_funding_usd'] = test_df['total_funding_usd'].fillna(0)\n",
        "train_df['total_funding_usd'] = train_df['total_funding_usd'].fillna(0)"
      ],
      "execution_count": 0,
      "outputs": []
    },
    {
      "cell_type": "code",
      "metadata": {
        "id": "IeOClugq-rA2",
        "colab_type": "code",
        "outputId": "ef3bdfd5-cdea-4b6b-e16c-86a2cb12b3e9",
        "colab": {
          "base_uri": "https://localhost:8080/",
          "height": 270
        }
      },
      "source": [
        "train_df.head()"
      ],
      "execution_count": 0,
      "outputs": [
        {
          "output_type": "execute_result",
          "data": {
            "text/html": [
              "<div>\n",
              "<style scoped>\n",
              "    .dataframe tbody tr th:only-of-type {\n",
              "        vertical-align: middle;\n",
              "    }\n",
              "\n",
              "    .dataframe tbody tr th {\n",
              "        vertical-align: top;\n",
              "    }\n",
              "\n",
              "    .dataframe thead th {\n",
              "        text-align: right;\n",
              "    }\n",
              "</style>\n",
              "<table border=\"1\" class=\"dataframe\">\n",
              "  <thead>\n",
              "    <tr style=\"text-align: right;\">\n",
              "      <th></th>\n",
              "      <th>op_status</th>\n",
              "      <th>domain</th>\n",
              "      <th>founded_on</th>\n",
              "      <th>hq_state_code</th>\n",
              "      <th>total_funding_usd</th>\n",
              "      <th>funding_rounds</th>\n",
              "      <th>first_funding_date</th>\n",
              "      <th>last_funding_date</th>\n",
              "      <th>num_investors</th>\n",
              "      <th>funding_duration</th>\n",
              "      <th>first_funding_utc</th>\n",
              "      <th>last_funding_utc</th>\n",
              "      <th>successful_investment</th>\n",
              "    </tr>\n",
              "  </thead>\n",
              "  <tbody>\n",
              "    <tr>\n",
              "      <th>0</th>\n",
              "      <td>closed</td>\n",
              "      <td>Nanotechnology</td>\n",
              "      <td>1.003986</td>\n",
              "      <td>M4</td>\n",
              "      <td>6820000</td>\n",
              "      <td>1</td>\n",
              "      <td>1.002008</td>\n",
              "      <td>1.002008</td>\n",
              "      <td>4</td>\n",
              "      <td>0</td>\n",
              "      <td>12907</td>\n",
              "      <td>12907</td>\n",
              "      <td>0</td>\n",
              "    </tr>\n",
              "    <tr>\n",
              "      <th>1</th>\n",
              "      <td>acquired</td>\n",
              "      <td>Email|Security|Software</td>\n",
              "      <td>0.996990</td>\n",
              "      <td>NY</td>\n",
              "      <td>0</td>\n",
              "      <td>1</td>\n",
              "      <td>1.000000</td>\n",
              "      <td>1.000000</td>\n",
              "      <td>1</td>\n",
              "      <td>0</td>\n",
              "      <td>11411</td>\n",
              "      <td>11411</td>\n",
              "      <td>1</td>\n",
              "    </tr>\n",
              "    <tr>\n",
              "      <th>2</th>\n",
              "      <td>operating</td>\n",
              "      <td>Beauty|Cosmetics|E-Commerce|Social Media</td>\n",
              "      <td>1.004012</td>\n",
              "      <td>PA</td>\n",
              "      <td>165778</td>\n",
              "      <td>5</td>\n",
              "      <td>1.005532</td>\n",
              "      <td>1.006506</td>\n",
              "      <td>4</td>\n",
              "      <td>579</td>\n",
              "      <td>15638</td>\n",
              "      <td>16217</td>\n",
              "      <td>0</td>\n",
              "    </tr>\n",
              "    <tr>\n",
              "      <th>3</th>\n",
              "      <td>closed</td>\n",
              "      <td>Curated Web</td>\n",
              "      <td>1.003986</td>\n",
              "      <td>CA</td>\n",
              "      <td>5000000</td>\n",
              "      <td>1</td>\n",
              "      <td>1.001988</td>\n",
              "      <td>1.001988</td>\n",
              "      <td>1</td>\n",
              "      <td>0</td>\n",
              "      <td>12784</td>\n",
              "      <td>12784</td>\n",
              "      <td>0</td>\n",
              "    </tr>\n",
              "    <tr>\n",
              "      <th>4</th>\n",
              "      <td>operating</td>\n",
              "      <td>Big Data|Cloud Computing|Databases|Enterprise ...</td>\n",
              "      <td>1.006510</td>\n",
              "      <td>CA</td>\n",
              "      <td>15250000</td>\n",
              "      <td>2</td>\n",
              "      <td>1.006515</td>\n",
              "      <td>1.007026</td>\n",
              "      <td>4</td>\n",
              "      <td>441</td>\n",
              "      <td>16252</td>\n",
              "      <td>16693</td>\n",
              "      <td>0</td>\n",
              "    </tr>\n",
              "  </tbody>\n",
              "</table>\n",
              "</div>"
            ],
            "text/plain": [
              "   op_status  ... successful_investment\n",
              "0     closed  ...                     0\n",
              "1   acquired  ...                     1\n",
              "2  operating  ...                     0\n",
              "3     closed  ...                     0\n",
              "4  operating  ...                     0\n",
              "\n",
              "[5 rows x 13 columns]"
            ]
          },
          "metadata": {
            "tags": []
          },
          "execution_count": 230
        }
      ]
    },
    {
      "cell_type": "code",
      "metadata": {
        "id": "-hvOdsnSHI-l",
        "colab_type": "code",
        "colab": {}
      },
      "source": [
        "#train_df[['op_status', 'successful_investment']].groupby(['op_status'], as_index=False).mean().sort_values(by='successful_investment', ascending=False)"
      ],
      "execution_count": 0,
      "outputs": []
    },
    {
      "cell_type": "code",
      "metadata": {
        "id": "6kn8iGRpaIQ6",
        "colab_type": "code",
        "outputId": "7baa9994-2513-48ef-b795-0c4a614b725b",
        "colab": {
          "base_uri": "https://localhost:8080/",
          "height": 54
        }
      },
      "source": [
        "k=0\n",
        "for dataset in combine:\n",
        "  for i in dataset['op_status']:\n",
        "    k=k+1\n",
        "    if(i=='http://centers.fortodo.com'):\n",
        "      dataset['op_status'] = dataset['op_status'].replace('http://centers.fortodo.com', 0)\n",
        "    if(i=='http://www.fortodo.com'):\n",
        "      dataset['op_status'] = dataset['op_status'].replace('http://www.fortodo.com', 0)\n",
        "    if(i==' http//www.dreamlines.com.br '):\n",
        "      dataset['op_status'] = dataset['op_status'].replace(' http//www.dreamlines.com.br ', 0)\n",
        "    if(i=='acquired'):\n",
        "      dataset['op_status'] = dataset['op_status'].replace('acquired',1)\n",
        "    if(i=='closed'):\n",
        "      dataset['op_status'] = dataset['op_status'].replace('closed',3)\n",
        "    if(i=='ipo'):\n",
        "      dataset['op_status'] = dataset['op_status'].replace('ipo',2)\n",
        "    if(i=='operating'):\n",
        "      dataset['op_status'] = dataset['op_status'].replace('operating',4)\n",
        "    if(i=='jsessionid=6575C51C75FD50441F3CA7510CC0BC3D.tomcatD'):\n",
        "      dataset['op_status']=dataset['op_status'].replace('jsessionid=6575C51C75FD50441F3CA7510CC0BC3D.tomcatD',0)\n",
        "      print(k)\n",
        "      print(\" \")\n",
        "\n",
        " \n",
        "\n",
        "\n"
      ],
      "execution_count": 0,
      "outputs": [
        {
          "output_type": "stream",
          "text": [
            "42594\n",
            " \n"
          ],
          "name": "stdout"
        }
      ]
    },
    {
      "cell_type": "markdown",
      "metadata": {
        "id": "Y_dkbr_E4HLq",
        "colab_type": "text"
      },
      "source": [
        "Labeling the op_status column for evalutions."
      ]
    },
    {
      "cell_type": "code",
      "metadata": {
        "id": "gQvPm8TKGXlM",
        "colab_type": "code",
        "colab": {}
      },
      "source": [
        "train_df['op_status'] = train_df['op_status'].replace('closed',3)\n",
        "train_df['op_status'] = train_df['op_status'].replace('ipo',2)\n",
        "train_df['op_status'] = train_df['op_status'].replace('operating',4)\n",
        "train_df['op_status'] = train_df['op_status'].replace('acquired',1)\n",
        "test_df['op_status'] = test_df['op_status'].replace('closed',3)\n",
        "test_df['op_status'] = test_df['op_status'].replace('ipo',2)\n",
        "test_df['op_status'] = test_df['op_status'].replace('operating',4)\n",
        "test_df['op_status'] = test_df['op_status'].replace('acquired',1)\n",
        "#train_df['op_status']=train_df.map({'acquired':1,'closed':3,'ipo':2,'operating':4}).astype(int)\n",
        "train_df['op_status'] = train_df['op_status'].replace('http://centers.fortodo.com', 0)\n",
        "train_df['op_status'] =train_df['op_status'].replace('http://www.fortodo.com', 0)\n",
        "train_df['op_status'] = train_df['op_status'].replace(' http//www.dreamlines.com.br ', 0)\n",
        "#test_df['op_status']=test_df.map({'acquired':1,'closed':3,'ipo':2,'operating':4}).astype(int)\n",
        "test_df['op_status']=test_df['op_status'].replace('jsessionid=6575C51C75FD50441F3CA7510CC0BC3D.tomcatD',0)"
      ],
      "execution_count": 0,
      "outputs": []
    },
    {
      "cell_type": "code",
      "metadata": {
        "id": "S8G_xJRn_A6C",
        "colab_type": "code",
        "outputId": "999ef0fb-246e-407c-94a7-d3ec56661ccf",
        "colab": {
          "base_uri": "https://localhost:8080/",
          "height": 270
        }
      },
      "source": [
        "train_df.head()"
      ],
      "execution_count": 0,
      "outputs": [
        {
          "output_type": "execute_result",
          "data": {
            "text/html": [
              "<div>\n",
              "<style scoped>\n",
              "    .dataframe tbody tr th:only-of-type {\n",
              "        vertical-align: middle;\n",
              "    }\n",
              "\n",
              "    .dataframe tbody tr th {\n",
              "        vertical-align: top;\n",
              "    }\n",
              "\n",
              "    .dataframe thead th {\n",
              "        text-align: right;\n",
              "    }\n",
              "</style>\n",
              "<table border=\"1\" class=\"dataframe\">\n",
              "  <thead>\n",
              "    <tr style=\"text-align: right;\">\n",
              "      <th></th>\n",
              "      <th>op_status</th>\n",
              "      <th>domain</th>\n",
              "      <th>founded_on</th>\n",
              "      <th>hq_state_code</th>\n",
              "      <th>total_funding_usd</th>\n",
              "      <th>funding_rounds</th>\n",
              "      <th>first_funding_date</th>\n",
              "      <th>last_funding_date</th>\n",
              "      <th>num_investors</th>\n",
              "      <th>funding_duration</th>\n",
              "      <th>first_funding_utc</th>\n",
              "      <th>last_funding_utc</th>\n",
              "      <th>successful_investment</th>\n",
              "    </tr>\n",
              "  </thead>\n",
              "  <tbody>\n",
              "    <tr>\n",
              "      <th>0</th>\n",
              "      <td>3</td>\n",
              "      <td>Nanotechnology</td>\n",
              "      <td>1.003986</td>\n",
              "      <td>M4</td>\n",
              "      <td>6820000</td>\n",
              "      <td>1</td>\n",
              "      <td>1.002008</td>\n",
              "      <td>1.002008</td>\n",
              "      <td>4</td>\n",
              "      <td>0</td>\n",
              "      <td>12907</td>\n",
              "      <td>12907</td>\n",
              "      <td>0</td>\n",
              "    </tr>\n",
              "    <tr>\n",
              "      <th>1</th>\n",
              "      <td>1</td>\n",
              "      <td>Email|Security|Software</td>\n",
              "      <td>0.996990</td>\n",
              "      <td>NY</td>\n",
              "      <td>0</td>\n",
              "      <td>1</td>\n",
              "      <td>1.000000</td>\n",
              "      <td>1.000000</td>\n",
              "      <td>1</td>\n",
              "      <td>0</td>\n",
              "      <td>11411</td>\n",
              "      <td>11411</td>\n",
              "      <td>1</td>\n",
              "    </tr>\n",
              "    <tr>\n",
              "      <th>2</th>\n",
              "      <td>4</td>\n",
              "      <td>Beauty|Cosmetics|E-Commerce|Social Media</td>\n",
              "      <td>1.004012</td>\n",
              "      <td>PA</td>\n",
              "      <td>165778</td>\n",
              "      <td>5</td>\n",
              "      <td>1.005532</td>\n",
              "      <td>1.006506</td>\n",
              "      <td>4</td>\n",
              "      <td>579</td>\n",
              "      <td>15638</td>\n",
              "      <td>16217</td>\n",
              "      <td>0</td>\n",
              "    </tr>\n",
              "    <tr>\n",
              "      <th>3</th>\n",
              "      <td>3</td>\n",
              "      <td>Curated Web</td>\n",
              "      <td>1.003986</td>\n",
              "      <td>CA</td>\n",
              "      <td>5000000</td>\n",
              "      <td>1</td>\n",
              "      <td>1.001988</td>\n",
              "      <td>1.001988</td>\n",
              "      <td>1</td>\n",
              "      <td>0</td>\n",
              "      <td>12784</td>\n",
              "      <td>12784</td>\n",
              "      <td>0</td>\n",
              "    </tr>\n",
              "    <tr>\n",
              "      <th>4</th>\n",
              "      <td>4</td>\n",
              "      <td>Big Data|Cloud Computing|Databases|Enterprise ...</td>\n",
              "      <td>1.006510</td>\n",
              "      <td>CA</td>\n",
              "      <td>15250000</td>\n",
              "      <td>2</td>\n",
              "      <td>1.006515</td>\n",
              "      <td>1.007026</td>\n",
              "      <td>4</td>\n",
              "      <td>441</td>\n",
              "      <td>16252</td>\n",
              "      <td>16693</td>\n",
              "      <td>0</td>\n",
              "    </tr>\n",
              "  </tbody>\n",
              "</table>\n",
              "</div>"
            ],
            "text/plain": [
              "   op_status  ... successful_investment\n",
              "0          3  ...                     0\n",
              "1          1  ...                     1\n",
              "2          4  ...                     0\n",
              "3          3  ...                     0\n",
              "4          4  ...                     0\n",
              "\n",
              "[5 rows x 13 columns]"
            ]
          },
          "metadata": {
            "tags": []
          },
          "execution_count": 233
        }
      ]
    },
    {
      "cell_type": "markdown",
      "metadata": {
        "id": "bhlTjl1o4hdu",
        "colab_type": "text"
      },
      "source": [
        "Some User defined functions whitch will use later to label data"
      ]
    },
    {
      "cell_type": "markdown",
      "metadata": {
        "id": "R_Eqy3C84uR7",
        "colab_type": "text"
      },
      "source": [
        "This function converts Country code to numbers "
      ]
    },
    {
      "cell_type": "code",
      "metadata": {
        "id": "pObIn1QnCgzn",
        "colab_type": "code",
        "colab": {}
      },
      "source": [
        "def country_code_num(data):\n",
        "  i=0\n",
        "  frequencytable=to_frequency_table(data)\n",
        "  for key in frequencytable:\n",
        "    i=i+1\n",
        "    frequencytable[key]=i\n",
        "  for key in data:\n",
        "    data=data.replace(key,frequencytable[key])\n",
        "  return data\n",
        "\n"
      ],
      "execution_count": 0,
      "outputs": []
    },
    {
      "cell_type": "markdown",
      "metadata": {
        "id": "AGFS0KD35hAc",
        "colab_type": "text"
      },
      "source": [
        "This function returns the numbers and their frequency in data "
      ]
    },
    {
      "cell_type": "code",
      "metadata": {
        "id": "N6Ls33UwyECX",
        "colab_type": "code",
        "colab": {}
      },
      "source": [
        "def to_frequency_table(data):\n",
        "    frequencytable = {}\n",
        "    for key in data:\n",
        "        if key in frequencytable:\n",
        "            frequencytable[key] += 1\n",
        "        else:\n",
        "            frequencytable[key] = 1\n",
        "    return frequencytable"
      ],
      "execution_count": 0,
      "outputs": []
    },
    {
      "cell_type": "markdown",
      "metadata": {
        "id": "jvH644Zn6Uts",
        "colab_type": "text"
      },
      "source": [
        "This function converts region column to numbers"
      ]
    },
    {
      "cell_type": "code",
      "metadata": {
        "id": "jXSKXHsbLEn_",
        "colab_type": "code",
        "colab": {}
      },
      "source": [
        "def convert_of_region(data):\n",
        "  frequencytable=to_frequency_table(data)\n",
        "  for key in data:\n",
        "    if frequencytable[key]<=50:\n",
        "      data = data.replace(key,0)\n",
        "  return data"
      ],
      "execution_count": 0,
      "outputs": []
    },
    {
      "cell_type": "markdown",
      "metadata": {
        "id": "mPC_f4cO6zTt",
        "colab_type": "text"
      },
      "source": [
        "This function converts the city to labbel"
      ]
    },
    {
      "cell_type": "code",
      "metadata": {
        "id": "NnBrYX1gPd7m",
        "colab_type": "code",
        "colab": {}
      },
      "source": [
        "def convert_of_city(data):\n",
        "  frequencytable=to_frequency_table(data)\n",
        "  for key in data:\n",
        "    if frequencytable[key]<=5:\n",
        "      data = data.replace(key,0)\n",
        "  return data"
      ],
      "execution_count": 0,
      "outputs": []
    },
    {
      "cell_type": "markdown",
      "metadata": {
        "id": "0ej334Qy7LC0",
        "colab_type": "text"
      },
      "source": [
        "This function converts input data to number by their frequencies"
      ]
    },
    {
      "cell_type": "code",
      "metadata": {
        "id": "xOG1v-N9yvgL",
        "colab_type": "code",
        "colab": {}
      },
      "source": [
        "def convert_to(data):\n",
        "  frequencytable=to_frequency_table(data)\n",
        "  for key in data:\n",
        "    if frequencytable[key]<=10:\n",
        "      data = data.replace(key,0)\n",
        "    if frequencytable[key]>10 and frequencytable[key]<=50:\n",
        "      data = data.replace(key,1)\n",
        "    if frequencytable[key]>50 and frequencytable[key]<=100:\n",
        "      data = data.replace(key,2)\n",
        "    if frequencytable[key]>100 and frequencytable[key]<=500:\n",
        "      data = data.replace(key,3)\n",
        "    if frequencytable[key]>500 and frequencytable[key]<=1000:\n",
        "      data = data.replace(key,4)\n",
        "    if frequencytable[key]>1000 and frequencytable[key]<=1500:\n",
        "      data = data.replace(key,5)\n",
        "    if frequencytable[key]>1500 and frequencytable[key]<=2000:\n",
        "      data = data.replace(key,6)\n",
        "    if frequencytable[key]>2000 and frequencytable[key]<=3000:\n",
        "      data = data.replace(key,7)\n",
        "    \n",
        "  return data\n",
        "\n"
      ],
      "execution_count": 0,
      "outputs": []
    },
    {
      "cell_type": "code",
      "metadata": {
        "id": "4GFRpqqd4Oat",
        "colab_type": "code",
        "colab": {}
      },
      "source": [
        "#dataset['domain']=convert_to(dataset['domain'])\n",
        "train_df['domain']=convert_to(train_df['domain'])\n",
        "test_df['domain']=convert_to(test_df['domain'])\n"
      ],
      "execution_count": 0,
      "outputs": []
    },
    {
      "cell_type": "code",
      "metadata": {
        "id": "Tc0vhgaRJO_R",
        "colab_type": "code",
        "colab": {}
      },
      "source": [
        "train_df['hq_state_code']=train_df['hq_state_code'].fillna(0)\n",
        "train_df['hq_state_code']=country_code_num(train_df['hq_state_code'])\n",
        "test_df['hq_state_code']=test_df['hq_state_code'].fillna(0)\n",
        "test_df['hq_state_code']=country_code_num(test_df['hq_state_code'])"
      ],
      "execution_count": 0,
      "outputs": []
    },
    {
      "cell_type": "code",
      "metadata": {
        "id": "uu4SSpC1SrWG",
        "colab_type": "code",
        "colab": {}
      },
      "source": [
        "train_df['funding_rounds']=train_df['funding_rounds'].fillna(0)\n",
        "for key in train_df['funding_rounds']:\n",
        "  if key=='operating':\n",
        "    train_df['funding_rounds']=train_df['funding_rounds'].replace(key,0)\n"
      ],
      "execution_count": 0,
      "outputs": []
    },
    {
      "cell_type": "code",
      "metadata": {
        "id": "mX1RyYf0VFJQ",
        "colab_type": "code",
        "colab": {}
      },
      "source": [
        "train_df['num_investors\t']=train_df['num_investors'].fillna(0)\n",
        "train_df['num_investors']=train_df['num_investors'].replace('DEU',0)\n",
        "train_df['num_investors']=train_df['num_investors'].replace('2015-05-15',0)\n",
        "train_df['num_investors']=train_df['num_investors'].replace('2005-01-01',0)\n",
        "test_df['num_investors']=test_df['num_investors'].replace('2013-11-01',0)\n"
      ],
      "execution_count": 0,
      "outputs": []
    },
    {
      "cell_type": "code",
      "metadata": {
        "id": "gzEQ9uvnwG68",
        "colab_type": "code",
        "colab": {}
      },
      "source": [
        "#dataset['op_status']=dataset['op_status'].fillna(0)\n",
        "#for dataset in combine:\n",
        "#    dataset['op_status'] = dataset['op_status'].map( {'acquired': 1, 'ipo': 2,'closed' : 3, 'operating' : 4} ).astype(int)"
      ],
      "execution_count": 0,
      "outputs": []
    },
    {
      "cell_type": "code",
      "metadata": {
        "id": "f0ZulERlhqi0",
        "colab_type": "code",
        "outputId": "e6479711-34c8-414d-c97b-59d1253a3262",
        "colab": {
          "base_uri": "https://localhost:8080/",
          "height": 218
        }
      },
      "source": [
        "train_df.head()"
      ],
      "execution_count": 0,
      "outputs": [
        {
          "output_type": "execute_result",
          "data": {
            "text/html": [
              "<div>\n",
              "<style scoped>\n",
              "    .dataframe tbody tr th:only-of-type {\n",
              "        vertical-align: middle;\n",
              "    }\n",
              "\n",
              "    .dataframe tbody tr th {\n",
              "        vertical-align: top;\n",
              "    }\n",
              "\n",
              "    .dataframe thead th {\n",
              "        text-align: right;\n",
              "    }\n",
              "</style>\n",
              "<table border=\"1\" class=\"dataframe\">\n",
              "  <thead>\n",
              "    <tr style=\"text-align: right;\">\n",
              "      <th></th>\n",
              "      <th>op_status</th>\n",
              "      <th>domain</th>\n",
              "      <th>founded_on</th>\n",
              "      <th>hq_state_code</th>\n",
              "      <th>total_funding_usd</th>\n",
              "      <th>funding_rounds</th>\n",
              "      <th>first_funding_date</th>\n",
              "      <th>last_funding_date</th>\n",
              "      <th>num_investors</th>\n",
              "      <th>funding_duration</th>\n",
              "      <th>first_funding_utc</th>\n",
              "      <th>last_funding_utc</th>\n",
              "      <th>successful_investment</th>\n",
              "      <th>num_investors</th>\n",
              "    </tr>\n",
              "  </thead>\n",
              "  <tbody>\n",
              "    <tr>\n",
              "      <th>0</th>\n",
              "      <td>3</td>\n",
              "      <td>2</td>\n",
              "      <td>1.003986</td>\n",
              "      <td>1</td>\n",
              "      <td>6820000</td>\n",
              "      <td>1</td>\n",
              "      <td>1.002008</td>\n",
              "      <td>1.002008</td>\n",
              "      <td>4</td>\n",
              "      <td>0</td>\n",
              "      <td>12907</td>\n",
              "      <td>12907</td>\n",
              "      <td>0</td>\n",
              "      <td>4</td>\n",
              "    </tr>\n",
              "    <tr>\n",
              "      <th>1</th>\n",
              "      <td>1</td>\n",
              "      <td>0</td>\n",
              "      <td>0.996990</td>\n",
              "      <td>2</td>\n",
              "      <td>0</td>\n",
              "      <td>1</td>\n",
              "      <td>1.000000</td>\n",
              "      <td>1.000000</td>\n",
              "      <td>1</td>\n",
              "      <td>0</td>\n",
              "      <td>11411</td>\n",
              "      <td>11411</td>\n",
              "      <td>1</td>\n",
              "      <td>1</td>\n",
              "    </tr>\n",
              "    <tr>\n",
              "      <th>2</th>\n",
              "      <td>4</td>\n",
              "      <td>0</td>\n",
              "      <td>1.004012</td>\n",
              "      <td>3</td>\n",
              "      <td>165778</td>\n",
              "      <td>5</td>\n",
              "      <td>1.005532</td>\n",
              "      <td>1.006506</td>\n",
              "      <td>4</td>\n",
              "      <td>579</td>\n",
              "      <td>15638</td>\n",
              "      <td>16217</td>\n",
              "      <td>0</td>\n",
              "      <td>4</td>\n",
              "    </tr>\n",
              "    <tr>\n",
              "      <th>3</th>\n",
              "      <td>3</td>\n",
              "      <td>4</td>\n",
              "      <td>1.003986</td>\n",
              "      <td>4</td>\n",
              "      <td>5000000</td>\n",
              "      <td>1</td>\n",
              "      <td>1.001988</td>\n",
              "      <td>1.001988</td>\n",
              "      <td>1</td>\n",
              "      <td>0</td>\n",
              "      <td>12784</td>\n",
              "      <td>12784</td>\n",
              "      <td>0</td>\n",
              "      <td>1</td>\n",
              "    </tr>\n",
              "    <tr>\n",
              "      <th>4</th>\n",
              "      <td>4</td>\n",
              "      <td>0</td>\n",
              "      <td>1.006510</td>\n",
              "      <td>4</td>\n",
              "      <td>15250000</td>\n",
              "      <td>2</td>\n",
              "      <td>1.006515</td>\n",
              "      <td>1.007026</td>\n",
              "      <td>4</td>\n",
              "      <td>441</td>\n",
              "      <td>16252</td>\n",
              "      <td>16693</td>\n",
              "      <td>0</td>\n",
              "      <td>4</td>\n",
              "    </tr>\n",
              "  </tbody>\n",
              "</table>\n",
              "</div>"
            ],
            "text/plain": [
              "   op_status  domain  ...  successful_investment  num_investors\\t\n",
              "0          3       2  ...                      0                4\n",
              "1          1       0  ...                      1                1\n",
              "2          4       0  ...                      0                4\n",
              "3          3       4  ...                      0                1\n",
              "4          4       0  ...                      0                4\n",
              "\n",
              "[5 rows x 14 columns]"
            ]
          },
          "metadata": {
            "tags": []
          },
          "execution_count": 246
        }
      ]
    },
    {
      "cell_type": "code",
      "metadata": {
        "id": "S4Ekg3cwu1QO",
        "colab_type": "code",
        "outputId": "982b4b0c-992e-441d-809c-9754933ff22e",
        "colab": {
          "base_uri": "https://localhost:8080/",
          "height": 288
        }
      },
      "source": [
        "train_df.describe()"
      ],
      "execution_count": 0,
      "outputs": [
        {
          "output_type": "execute_result",
          "data": {
            "text/html": [
              "<div>\n",
              "<style scoped>\n",
              "    .dataframe tbody tr th:only-of-type {\n",
              "        vertical-align: middle;\n",
              "    }\n",
              "\n",
              "    .dataframe tbody tr th {\n",
              "        vertical-align: top;\n",
              "    }\n",
              "\n",
              "    .dataframe thead th {\n",
              "        text-align: right;\n",
              "    }\n",
              "</style>\n",
              "<table border=\"1\" class=\"dataframe\">\n",
              "  <thead>\n",
              "    <tr style=\"text-align: right;\">\n",
              "      <th></th>\n",
              "      <th>op_status</th>\n",
              "      <th>domain</th>\n",
              "      <th>founded_on</th>\n",
              "      <th>hq_state_code</th>\n",
              "      <th>first_funding_date</th>\n",
              "      <th>last_funding_date</th>\n",
              "      <th>funding_duration</th>\n",
              "      <th>successful_investment</th>\n",
              "    </tr>\n",
              "  </thead>\n",
              "  <tbody>\n",
              "    <tr>\n",
              "      <th>count</th>\n",
              "      <td>40213.000000</td>\n",
              "      <td>40213.000000</td>\n",
              "      <td>40213.000000</td>\n",
              "      <td>40213.000000</td>\n",
              "      <td>4.021300e+04</td>\n",
              "      <td>40213.000000</td>\n",
              "      <td>40213.000000</td>\n",
              "      <td>4.021300e+04</td>\n",
              "    </tr>\n",
              "    <tr>\n",
              "      <th>mean</th>\n",
              "      <td>3.529978</td>\n",
              "      <td>2.089001</td>\n",
              "      <td>1.003412</td>\n",
              "      <td>30.227837</td>\n",
              "      <td>1.004751e+00</td>\n",
              "      <td>1.005391</td>\n",
              "      <td>436.388133</td>\n",
              "      <td>9.224409e+02</td>\n",
              "    </tr>\n",
              "    <tr>\n",
              "      <th>std</th>\n",
              "      <td>0.978927</td>\n",
              "      <td>2.515279</td>\n",
              "      <td>0.004747</td>\n",
              "      <td>39.228970</td>\n",
              "      <td>7.342386e-03</td>\n",
              "      <td>0.001816</td>\n",
              "      <td>779.468602</td>\n",
              "      <td>1.848059e+05</td>\n",
              "    </tr>\n",
              "    <tr>\n",
              "      <th>min</th>\n",
              "      <td>0.000000</td>\n",
              "      <td>0.000000</td>\n",
              "      <td>0.507245</td>\n",
              "      <td>1.000000</td>\n",
              "      <td>4.997419e-08</td>\n",
              "      <td>0.994497</td>\n",
              "      <td>0.000000</td>\n",
              "      <td>0.000000e+00</td>\n",
              "    </tr>\n",
              "    <tr>\n",
              "      <th>25%</th>\n",
              "      <td>4.000000</td>\n",
              "      <td>0.000000</td>\n",
              "      <td>1.003003</td>\n",
              "      <td>4.000000</td>\n",
              "      <td>1.003522e+00</td>\n",
              "      <td>1.004527</td>\n",
              "      <td>0.000000</td>\n",
              "      <td>0.000000e+00</td>\n",
              "    </tr>\n",
              "    <tr>\n",
              "      <th>50%</th>\n",
              "      <td>4.000000</td>\n",
              "      <td>0.000000</td>\n",
              "      <td>1.003986</td>\n",
              "      <td>15.000000</td>\n",
              "      <td>1.005496e+00</td>\n",
              "      <td>1.006016</td>\n",
              "      <td>0.000000</td>\n",
              "      <td>0.000000e+00</td>\n",
              "    </tr>\n",
              "    <tr>\n",
              "      <th>75%</th>\n",
              "      <td>4.000000</td>\n",
              "      <td>4.000000</td>\n",
              "      <td>1.005486</td>\n",
              "      <td>36.000000</td>\n",
              "      <td>1.006485e+00</td>\n",
              "      <td>1.006536</td>\n",
              "      <td>615.000000</td>\n",
              "      <td>0.000000e+00</td>\n",
              "    </tr>\n",
              "    <tr>\n",
              "      <th>max</th>\n",
              "      <td>4.000000</td>\n",
              "      <td>7.000000</td>\n",
              "      <td>1.007041</td>\n",
              "      <td>296.000000</td>\n",
              "      <td>1.007040e+00</td>\n",
              "      <td>1.057014</td>\n",
              "      <td>36994.000000</td>\n",
              "      <td>3.705945e+07</td>\n",
              "    </tr>\n",
              "  </tbody>\n",
              "</table>\n",
              "</div>"
            ],
            "text/plain": [
              "          op_status        domain  ...  funding_duration  successful_investment\n",
              "count  40213.000000  40213.000000  ...      40213.000000           4.021300e+04\n",
              "mean       3.529978      2.089001  ...        436.388133           9.224409e+02\n",
              "std        0.978927      2.515279  ...        779.468602           1.848059e+05\n",
              "min        0.000000      0.000000  ...          0.000000           0.000000e+00\n",
              "25%        4.000000      0.000000  ...          0.000000           0.000000e+00\n",
              "50%        4.000000      0.000000  ...          0.000000           0.000000e+00\n",
              "75%        4.000000      4.000000  ...        615.000000           0.000000e+00\n",
              "max        4.000000      7.000000  ...      36994.000000           3.705945e+07\n",
              "\n",
              "[8 rows x 8 columns]"
            ]
          },
          "metadata": {
            "tags": []
          },
          "execution_count": 247
        }
      ]
    },
    {
      "cell_type": "markdown",
      "metadata": {
        "id": "opVZ6yug5RZw",
        "colab_type": "text"
      },
      "source": [
        "Normlising the founding duretion column."
      ]
    },
    {
      "cell_type": "code",
      "metadata": {
        "id": "JpWNMaqbvQjW",
        "colab_type": "code",
        "colab": {}
      },
      "source": [
        "train_df['funding_duration']=train_df['funding_duration']/36994.000000\t\n",
        "test_df['funding_duration']=test_df['funding_duration']/36994.000000"
      ],
      "execution_count": 0,
      "outputs": []
    },
    {
      "cell_type": "code",
      "metadata": {
        "id": "cEsSszTClLml",
        "colab_type": "code",
        "colab": {}
      },
      "source": [
        "#train_df['first_funding_date']=convert_date(train_df['first_funding_date'],train_df['last_funding_date'])\n",
        "#da=train_df['first_funding_date']\n",
        "#print(len(da))"
      ],
      "execution_count": 0,
      "outputs": []
    },
    {
      "cell_type": "code",
      "metadata": {
        "id": "DMhJi9wNNgIh",
        "colab_type": "code",
        "colab": {}
      },
      "source": [
        "train_df['funding_duration']=train_df['funding_duration'].replace('Hamburg',0)\n",
        "train_df['first_funding_utc']=train_df['first_funding_utc'].replace('Hamburg',0)\n",
        "train_df['last_funding_utc']=train_df['last_funding_utc'].replace('Hamburg',0)\n",
        "train_df['num_investors']=train_df['num_investors'].replace('Hamburg',0)"
      ],
      "execution_count": 0,
      "outputs": []
    },
    {
      "cell_type": "code",
      "metadata": {
        "id": "jSM2nfWuL2Ll",
        "colab_type": "code",
        "outputId": "1c894d16-0bea-4af3-c362-0adc7b32d39e",
        "colab": {
          "base_uri": "https://localhost:8080/",
          "height": 326
        }
      },
      "source": [
        "test_df.info()"
      ],
      "execution_count": 0,
      "outputs": [
        {
          "output_type": "stream",
          "text": [
            "<class 'pandas.core.frame.DataFrame'>\n",
            "RangeIndex: 4469 entries, 0 to 4468\n",
            "Data columns (total 12 columns):\n",
            "op_status             4469 non-null int64\n",
            "domain                4469 non-null int64\n",
            "founded_on            4469 non-null float64\n",
            "hq_state_code         4469 non-null int64\n",
            "total_funding_usd     4469 non-null object\n",
            "funding_rounds        4469 non-null int64\n",
            "first_funding_date    4469 non-null float64\n",
            "last_funding_date     4469 non-null float64\n",
            "num_investors         4469 non-null object\n",
            "funding_duration      4469 non-null float64\n",
            "first_funding_utc     4469 non-null int64\n",
            "last_funding_utc      4469 non-null int64\n",
            "dtypes: float64(4), int64(6), object(2)\n",
            "memory usage: 419.0+ KB\n"
          ],
          "name": "stdout"
        }
      ]
    },
    {
      "cell_type": "code",
      "metadata": {
        "id": "-H_OeBe4jg17",
        "colab_type": "code",
        "outputId": "df8e29ac-1956-444a-96c7-c317dbd22a06",
        "colab": {
          "base_uri": "https://localhost:8080/",
          "height": 35
        }
      },
      "source": [
        "d1='2012-10-25'\n",
        "d2='2014-05-27'\n",
        "p=days_between(d1, d2)\n",
        "print(p)"
      ],
      "execution_count": 0,
      "outputs": [
        {
          "output_type": "stream",
          "text": [
            "579\n"
          ],
          "name": "stdout"
        }
      ]
    },
    {
      "cell_type": "code",
      "metadata": {
        "id": "LQ-GkUzypBiq",
        "colab_type": "code",
        "outputId": "00c88670-57da-4850-e8ce-7cdf88d785fe",
        "colab": {
          "base_uri": "https://localhost:8080/",
          "height": 218
        }
      },
      "source": [
        "train_df.head()"
      ],
      "execution_count": 0,
      "outputs": [
        {
          "output_type": "execute_result",
          "data": {
            "text/html": [
              "<div>\n",
              "<style scoped>\n",
              "    .dataframe tbody tr th:only-of-type {\n",
              "        vertical-align: middle;\n",
              "    }\n",
              "\n",
              "    .dataframe tbody tr th {\n",
              "        vertical-align: top;\n",
              "    }\n",
              "\n",
              "    .dataframe thead th {\n",
              "        text-align: right;\n",
              "    }\n",
              "</style>\n",
              "<table border=\"1\" class=\"dataframe\">\n",
              "  <thead>\n",
              "    <tr style=\"text-align: right;\">\n",
              "      <th></th>\n",
              "      <th>op_status</th>\n",
              "      <th>domain</th>\n",
              "      <th>founded_on</th>\n",
              "      <th>hq_state_code</th>\n",
              "      <th>total_funding_usd</th>\n",
              "      <th>funding_rounds</th>\n",
              "      <th>first_funding_date</th>\n",
              "      <th>last_funding_date</th>\n",
              "      <th>num_investors</th>\n",
              "      <th>funding_duration</th>\n",
              "      <th>first_funding_utc</th>\n",
              "      <th>last_funding_utc</th>\n",
              "      <th>successful_investment</th>\n",
              "      <th>num_investors</th>\n",
              "    </tr>\n",
              "  </thead>\n",
              "  <tbody>\n",
              "    <tr>\n",
              "      <th>0</th>\n",
              "      <td>3</td>\n",
              "      <td>2</td>\n",
              "      <td>1.003986</td>\n",
              "      <td>1</td>\n",
              "      <td>6820000</td>\n",
              "      <td>1</td>\n",
              "      <td>1.002008</td>\n",
              "      <td>1.002008</td>\n",
              "      <td>4</td>\n",
              "      <td>0.000000</td>\n",
              "      <td>12907</td>\n",
              "      <td>12907</td>\n",
              "      <td>0</td>\n",
              "      <td>4</td>\n",
              "    </tr>\n",
              "    <tr>\n",
              "      <th>1</th>\n",
              "      <td>1</td>\n",
              "      <td>0</td>\n",
              "      <td>0.996990</td>\n",
              "      <td>2</td>\n",
              "      <td>0</td>\n",
              "      <td>1</td>\n",
              "      <td>1.000000</td>\n",
              "      <td>1.000000</td>\n",
              "      <td>1</td>\n",
              "      <td>0.000000</td>\n",
              "      <td>11411</td>\n",
              "      <td>11411</td>\n",
              "      <td>1</td>\n",
              "      <td>1</td>\n",
              "    </tr>\n",
              "    <tr>\n",
              "      <th>2</th>\n",
              "      <td>4</td>\n",
              "      <td>0</td>\n",
              "      <td>1.004012</td>\n",
              "      <td>3</td>\n",
              "      <td>165778</td>\n",
              "      <td>5</td>\n",
              "      <td>1.005532</td>\n",
              "      <td>1.006506</td>\n",
              "      <td>4</td>\n",
              "      <td>0.015651</td>\n",
              "      <td>15638</td>\n",
              "      <td>16217</td>\n",
              "      <td>0</td>\n",
              "      <td>4</td>\n",
              "    </tr>\n",
              "    <tr>\n",
              "      <th>3</th>\n",
              "      <td>3</td>\n",
              "      <td>4</td>\n",
              "      <td>1.003986</td>\n",
              "      <td>4</td>\n",
              "      <td>5000000</td>\n",
              "      <td>1</td>\n",
              "      <td>1.001988</td>\n",
              "      <td>1.001988</td>\n",
              "      <td>1</td>\n",
              "      <td>0.000000</td>\n",
              "      <td>12784</td>\n",
              "      <td>12784</td>\n",
              "      <td>0</td>\n",
              "      <td>1</td>\n",
              "    </tr>\n",
              "    <tr>\n",
              "      <th>4</th>\n",
              "      <td>4</td>\n",
              "      <td>0</td>\n",
              "      <td>1.006510</td>\n",
              "      <td>4</td>\n",
              "      <td>15250000</td>\n",
              "      <td>2</td>\n",
              "      <td>1.006515</td>\n",
              "      <td>1.007026</td>\n",
              "      <td>4</td>\n",
              "      <td>0.011921</td>\n",
              "      <td>16252</td>\n",
              "      <td>16693</td>\n",
              "      <td>0</td>\n",
              "      <td>4</td>\n",
              "    </tr>\n",
              "  </tbody>\n",
              "</table>\n",
              "</div>"
            ],
            "text/plain": [
              "   op_status  domain  ...  successful_investment  num_investors\\t\n",
              "0          3       2  ...                      0                4\n",
              "1          1       0  ...                      1                1\n",
              "2          4       0  ...                      0                4\n",
              "3          3       4  ...                      0                1\n",
              "4          4       0  ...                      0                4\n",
              "\n",
              "[5 rows x 14 columns]"
            ]
          },
          "metadata": {
            "tags": []
          },
          "execution_count": 255
        }
      ]
    },
    {
      "cell_type": "code",
      "metadata": {
        "id": "8GULCyjyJdy7",
        "colab_type": "code",
        "outputId": "acaa2852-67bd-4d59-d2ee-831ba72cab00",
        "colab": {
          "base_uri": "https://localhost:8080/",
          "height": 672
        }
      },
      "source": [
        "train_df.info()\n",
        "test_df.info()"
      ],
      "execution_count": 0,
      "outputs": [
        {
          "output_type": "stream",
          "text": [
            "<class 'pandas.core.frame.DataFrame'>\n",
            "RangeIndex: 40213 entries, 0 to 40212\n",
            "Data columns (total 14 columns):\n",
            "op_status                40213 non-null int64\n",
            "domain                   40213 non-null int64\n",
            "founded_on               40213 non-null float64\n",
            "hq_state_code            40213 non-null int64\n",
            "total_funding_usd        40213 non-null object\n",
            "funding_rounds           40213 non-null object\n",
            "first_funding_date       40213 non-null float64\n",
            "last_funding_date        40213 non-null float64\n",
            "num_investors            40213 non-null object\n",
            "funding_duration         40213 non-null float64\n",
            "first_funding_utc        40213 non-null object\n",
            "last_funding_utc         40213 non-null object\n",
            "successful_investment    40213 non-null int64\n",
            "num_investors\t           40213 non-null object\n",
            "dtypes: float64(4), int64(4), object(6)\n",
            "memory usage: 4.3+ MB\n",
            "<class 'pandas.core.frame.DataFrame'>\n",
            "RangeIndex: 4469 entries, 0 to 4468\n",
            "Data columns (total 12 columns):\n",
            "op_status             4469 non-null int64\n",
            "domain                4469 non-null int64\n",
            "founded_on            4469 non-null float64\n",
            "hq_state_code         4469 non-null int64\n",
            "total_funding_usd     4469 non-null object\n",
            "funding_rounds        4469 non-null int64\n",
            "first_funding_date    4469 non-null float64\n",
            "last_funding_date     4469 non-null float64\n",
            "num_investors         4469 non-null object\n",
            "funding_duration      4469 non-null float64\n",
            "first_funding_utc     4469 non-null int64\n",
            "last_funding_utc      4469 non-null int64\n",
            "dtypes: float64(4), int64(6), object(2)\n",
            "memory usage: 419.0+ KB\n"
          ],
          "name": "stdout"
        }
      ]
    },
    {
      "cell_type": "code",
      "metadata": {
        "id": "9RNzk6q2QYTI",
        "colab_type": "code",
        "outputId": "1b57270b-14be-434d-89a4-f8f3a2b1b04c",
        "colab": {
          "base_uri": "https://localhost:8080/",
          "height": 345
        }
      },
      "source": [
        "train_df = train_df.drop(['num_investors'], axis=1)\n",
        "train_df.info()"
      ],
      "execution_count": 0,
      "outputs": [
        {
          "output_type": "stream",
          "text": [
            "<class 'pandas.core.frame.DataFrame'>\n",
            "RangeIndex: 40213 entries, 0 to 40212\n",
            "Data columns (total 13 columns):\n",
            "op_status                40213 non-null int64\n",
            "domain                   40213 non-null int64\n",
            "founded_on               40213 non-null float64\n",
            "hq_state_code            40213 non-null int64\n",
            "total_funding_usd        40213 non-null object\n",
            "funding_rounds           40213 non-null object\n",
            "first_funding_date       40213 non-null float64\n",
            "last_funding_date        40213 non-null float64\n",
            "funding_duration         40213 non-null float64\n",
            "first_funding_utc        40213 non-null object\n",
            "last_funding_utc         40213 non-null object\n",
            "successful_investment    40213 non-null int64\n",
            "num_investors\t           40213 non-null object\n",
            "dtypes: float64(4), int64(4), object(5)\n",
            "memory usage: 4.0+ MB\n"
          ],
          "name": "stdout"
        }
      ]
    },
    {
      "cell_type": "code",
      "metadata": {
        "id": "W_0UVialJ0Xj",
        "colab_type": "code",
        "colab": {}
      },
      "source": [
        "train_df=train_df.replace(['2005-01-01','New York','2015-05-15','Palo Alto','DEU',' http://www.cruisecenter.com.au'],0)   "
      ],
      "execution_count": 0,
      "outputs": []
    },
    {
      "cell_type": "markdown",
      "metadata": {
        "id": "LQBSNEQ35sSM",
        "colab_type": "text"
      },
      "source": [
        "Creating X of training data and y of training data"
      ]
    },
    {
      "cell_type": "code",
      "metadata": {
        "id": "24wtLSLYtlgn",
        "colab_type": "code",
        "colab": {}
      },
      "source": [
        "X_train = train_df.drop(\"successful_investment\", axis=1)\n",
        "Y_train = train_df[\"successful_investment\"]\n",
        "X_test  = test_df"
      ],
      "execution_count": 0,
      "outputs": []
    },
    {
      "cell_type": "code",
      "metadata": {
        "id": "YBNpvfUdJ9wM",
        "colab_type": "code",
        "colab": {}
      },
      "source": [
        "#X_train = X_train.drop(['last_funding_utc','num_investors','first_funding_utc','funding_rounds','num_investors'], axis=1)\n",
        "#X_test = X_test.drop(['last_funding_utc','num_investors','first_funding_utc','funding_rounds','num_investors'], axis=1)"
      ],
      "execution_count": 0,
      "outputs": []
    },
    {
      "cell_type": "code",
      "metadata": {
        "id": "a3G9iMsJKV8s",
        "colab_type": "code",
        "outputId": "5a278101-4288-445c-f7ff-edbb880bf390",
        "colab": {
          "base_uri": "https://localhost:8080/",
          "height": 326
        }
      },
      "source": [
        "X_train.info()"
      ],
      "execution_count": 0,
      "outputs": [
        {
          "output_type": "stream",
          "text": [
            "<class 'pandas.core.frame.DataFrame'>\n",
            "RangeIndex: 40213 entries, 0 to 40212\n",
            "Data columns (total 12 columns):\n",
            "op_status             40213 non-null int64\n",
            "domain                40213 non-null int64\n",
            "founded_on            40213 non-null float64\n",
            "hq_state_code         40213 non-null int64\n",
            "total_funding_usd     40213 non-null object\n",
            "funding_rounds        40213 non-null object\n",
            "first_funding_date    40213 non-null float64\n",
            "last_funding_date     40213 non-null float64\n",
            "funding_duration      40213 non-null float64\n",
            "first_funding_utc     40213 non-null object\n",
            "last_funding_utc      40213 non-null object\n",
            "num_investors\t        40213 non-null object\n",
            "dtypes: float64(4), int64(3), object(5)\n",
            "memory usage: 3.7+ MB\n"
          ],
          "name": "stdout"
        }
      ]
    },
    {
      "cell_type": "code",
      "metadata": {
        "id": "u17olddUI4OK",
        "colab_type": "code",
        "outputId": "06e51e0f-0d0e-4a2f-9375-a087bf2f8a69",
        "colab": {
          "base_uri": "https://localhost:8080/",
          "height": 326
        }
      },
      "source": [
        "X_test.info()"
      ],
      "execution_count": 0,
      "outputs": [
        {
          "output_type": "stream",
          "text": [
            "<class 'pandas.core.frame.DataFrame'>\n",
            "RangeIndex: 4469 entries, 0 to 4468\n",
            "Data columns (total 12 columns):\n",
            "op_status             4469 non-null int64\n",
            "domain                4469 non-null int64\n",
            "founded_on            4469 non-null float64\n",
            "hq_state_code         4469 non-null int64\n",
            "total_funding_usd     4469 non-null object\n",
            "funding_rounds        4469 non-null int64\n",
            "first_funding_date    4469 non-null float64\n",
            "last_funding_date     4469 non-null float64\n",
            "num_investors         4469 non-null object\n",
            "funding_duration      4469 non-null float64\n",
            "first_funding_utc     4469 non-null int64\n",
            "last_funding_utc      4469 non-null int64\n",
            "dtypes: float64(4), int64(6), object(2)\n",
            "memory usage: 419.0+ KB\n"
          ],
          "name": "stdout"
        }
      ]
    },
    {
      "cell_type": "code",
      "metadata": {
        "id": "9QzjjaKcmqTR",
        "colab_type": "code",
        "colab": {}
      },
      "source": [
        "X_test=X_test.replace('Ar Riyadh',0)"
      ],
      "execution_count": 0,
      "outputs": []
    },
    {
      "cell_type": "markdown",
      "metadata": {
        "id": "srClay0S6XxA",
        "colab_type": "text"
      },
      "source": [
        "Calling support vector algorithm. This algorithms most usefull algorithm in industries."
      ]
    },
    {
      "cell_type": "code",
      "metadata": {
        "id": "iUg53t2SIywp",
        "colab_type": "code",
        "outputId": "a6b17451-b246-4a43-807b-d506902fb809",
        "colab": {
          "base_uri": "https://localhost:8080/",
          "height": 92
        }
      },
      "source": [
        "svc = SVC()\n",
        "svc.fit(X_train, Y_train)\n",
        "Y_pred = svc.predict(X_test)\n",
        "acc_svc = round(svc.score(X_train, Y_train) * 100, 2)\n",
        "print(acc_svc)"
      ],
      "execution_count": 0,
      "outputs": [
        {
          "output_type": "stream",
          "text": [
            "/usr/local/lib/python3.6/dist-packages/sklearn/svm/base.py:193: FutureWarning: The default value of gamma will change from 'auto' to 'scale' in version 0.22 to account better for unscaled features. Set gamma explicitly to 'auto' or 'scale' to avoid this warning.\n",
            "  \"avoid this warning.\", FutureWarning)\n"
          ],
          "name": "stderr"
        },
        {
          "output_type": "stream",
          "text": [
            "99.72\n"
          ],
          "name": "stdout"
        }
      ]
    },
    {
      "cell_type": "code",
      "metadata": {
        "id": "7adVikDTRRLC",
        "colab_type": "code",
        "outputId": "0412fa45-2e1d-4e67-9a25-026a6328ac83",
        "colab": {
          "base_uri": "https://localhost:8080/",
          "height": 35
        }
      },
      "source": [
        "Y_pred[1:5]"
      ],
      "execution_count": 0,
      "outputs": [
        {
          "output_type": "execute_result",
          "data": {
            "text/plain": [
              "array([0, 0, 0, 0])"
            ]
          },
          "metadata": {
            "tags": []
          },
          "execution_count": 267
        }
      ]
    },
    {
      "cell_type": "code",
      "metadata": {
        "id": "xr_FTVH1SqFh",
        "colab_type": "code",
        "colab": {}
      },
      "source": [
        ""
      ],
      "execution_count": 0,
      "outputs": []
    },
    {
      "cell_type": "markdown",
      "metadata": {
        "id": "h2Dw8hbS6v9R",
        "colab_type": "text"
      },
      "source": [
        "After checking accuracy of logistic regression and svm we are calculating accuracy by Decision Tree "
      ]
    },
    {
      "cell_type": "code",
      "metadata": {
        "id": "FLccpfKGTAMh",
        "colab_type": "code",
        "outputId": "f6aa5153-ac5a-45a3-b87a-8beefddb2a42",
        "colab": {
          "base_uri": "https://localhost:8080/",
          "height": 35
        }
      },
      "source": [
        "decision_tree = DecisionTreeClassifier()\n",
        "decision_tree.fit(X_train, Y_train)\n",
        "Y_pred1 = decision_tree.predict(X_test)\n",
        "acc_decision_tree = round(decision_tree.score(X_train, Y_train) * 100, 2)\n",
        "print(acc_decision_tree)"
      ],
      "execution_count": 0,
      "outputs": [
        {
          "output_type": "stream",
          "text": [
            "100.0\n"
          ],
          "name": "stdout"
        }
      ]
    },
    {
      "cell_type": "markdown",
      "metadata": {
        "id": "ie_qGE3k7Dpt",
        "colab_type": "text"
      },
      "source": [
        "This algo gives best accuracy 100% so we are taking the predictions given by this algo"
      ]
    },
    {
      "cell_type": "code",
      "metadata": {
        "id": "0FiLC175TEn0",
        "colab_type": "code",
        "outputId": "a13fb647-3f8a-47c6-bc88-f17cc518e31a",
        "colab": {
          "base_uri": "https://localhost:8080/",
          "height": 35
        }
      },
      "source": [
        "Y_pred1[1:5]"
      ],
      "execution_count": 0,
      "outputs": [
        {
          "output_type": "execute_result",
          "data": {
            "text/plain": [
              "array([       0, 37059448,    12784,        0])"
            ]
          },
          "metadata": {
            "tags": []
          },
          "execution_count": 276
        }
      ]
    },
    {
      "cell_type": "code",
      "metadata": {
        "id": "XZmFmlFJTZK_",
        "colab_type": "code",
        "colab": {}
      },
      "source": [
        "submission = pd.DataFrame({\n",
        "        \"ID\": test_df_later[\"ID\"],\n",
        "        \"successful_investment\": Y_pred1\n",
        "    })"
      ],
      "execution_count": 0,
      "outputs": []
    },
    {
      "cell_type": "code",
      "metadata": {
        "id": "XMMq7mI4UGEt",
        "colab_type": "code",
        "outputId": "0cdc5e1a-fc1a-4a5f-8561-b3b6815f5ee0",
        "colab": {
          "base_uri": "https://localhost:8080/",
          "height": 145
        }
      },
      "source": [
        "submission.info()"
      ],
      "execution_count": 0,
      "outputs": [
        {
          "output_type": "stream",
          "text": [
            "<class 'pandas.core.frame.DataFrame'>\n",
            "RangeIndex: 4469 entries, 0 to 4468\n",
            "Data columns (total 2 columns):\n",
            "ID                       4469 non-null int64\n",
            "successful_investment    4469 non-null int64\n",
            "dtypes: int64(2)\n",
            "memory usage: 69.9 KB\n"
          ],
          "name": "stdout"
        }
      ]
    },
    {
      "cell_type": "code",
      "metadata": {
        "id": "S087NnWAU2Z3",
        "colab_type": "code",
        "colab": {}
      },
      "source": [
        "#submission=submission.drop(['ID'],axis=1)\n",
        "#submission.to_csv('Find_the_Fund_Submission.csv')"
      ],
      "execution_count": 0,
      "outputs": []
    },
    {
      "cell_type": "code",
      "metadata": {
        "id": "tnGYBNj1ZoLy",
        "colab_type": "code",
        "colab": {}
      },
      "source": [
        "export_csv = submission.to_csv (r'Find_the_Fund_Submission3.csv', index = None)"
      ],
      "execution_count": 0,
      "outputs": []
    },
    {
      "cell_type": "code",
      "metadata": {
        "id": "5HQOR8dKVSaJ",
        "colab_type": "code",
        "colab": {}
      },
      "source": [
        "with open('Find_the_Fund_sub.csv', 'w') as csvFile:\n",
        "    writer = csv.writer(csvFile)\n",
        "    writer.writerows(submission)\n",
        "csvFile.close()"
      ],
      "execution_count": 0,
      "outputs": []
    },
    {
      "cell_type": "code",
      "metadata": {
        "id": "GqES2m5LYhI9",
        "colab_type": "code",
        "colab": {}
      },
      "source": [
        ""
      ],
      "execution_count": 0,
      "outputs": []
    }
  ]
}